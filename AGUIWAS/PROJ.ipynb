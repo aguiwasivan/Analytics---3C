{
 "cells": [
  {
   "cell_type": "markdown",
   "id": "512bb896-12ae-4723-95e2-2970e0f3751e",
   "metadata": {},
   "source": [
    "<H1>IVAN RAYMOND M. AGUIWAS</H1>\n",
    "<h4>BSIT-3C</h4>\n"
   ]
  },
  {
   "cell_type": "code",
   "execution_count": 1,
   "id": "ccf509cc-a06f-4c31-9cb6-9f0d3852d41a",
   "metadata": {},
   "outputs": [],
   "source": [
    "import pandas as pd\n",
    "import numpy as py\n",
    "import warnings\n",
    "import matplotlib.pyplot as plt\n",
    "warnings.filterwarnings('ignore')"
   ]
  },
  {
   "cell_type": "markdown",
   "id": "c478ab0b-198a-4294-901b-4db416e57889",
   "metadata": {},
   "source": [
    "DATA FRAME"
   ]
  },
  {
   "cell_type": "code",
   "execution_count": 2,
   "id": "49ab570f-6c98-4caf-9bb2-56e73741c9b5",
   "metadata": {},
   "outputs": [],
   "source": [
    "car = pd.read_csv(\"uk_accident_data.csv\")"
   ]
  },
  {
   "cell_type": "code",
   "execution_count": 3,
   "id": "693091f7-0d83-4df2-bb08-e2459cacd756",
   "metadata": {},
   "outputs": [
    {
     "data": {
      "text/html": [
       "<div>\n",
       "<style scoped>\n",
       "    .dataframe tbody tr th:only-of-type {\n",
       "        vertical-align: middle;\n",
       "    }\n",
       "\n",
       "    .dataframe tbody tr th {\n",
       "        vertical-align: top;\n",
       "    }\n",
       "\n",
       "    .dataframe thead th {\n",
       "        text-align: right;\n",
       "    }\n",
       "</style>\n",
       "<table border=\"1\" class=\"dataframe\">\n",
       "  <thead>\n",
       "    <tr style=\"text-align: right;\">\n",
       "      <th></th>\n",
       "      <th>Index</th>\n",
       "      <th>Accident_Severity</th>\n",
       "      <th>Accident Date</th>\n",
       "      <th>Latitude</th>\n",
       "      <th>Light_Conditions</th>\n",
       "      <th>District Area</th>\n",
       "      <th>Longitude</th>\n",
       "      <th>Number_of_Casualties</th>\n",
       "      <th>Number_of_Vehicles</th>\n",
       "      <th>Road_Surface_Conditions</th>\n",
       "      <th>Road_Type</th>\n",
       "      <th>Urban_or_Rural_Area</th>\n",
       "      <th>Weather_Conditions</th>\n",
       "      <th>Vehicle_Type</th>\n",
       "    </tr>\n",
       "  </thead>\n",
       "  <tbody>\n",
       "    <tr>\n",
       "      <th>0</th>\n",
       "      <td>200701BS64157</td>\n",
       "      <td>Serious</td>\n",
       "      <td>05/06/2019</td>\n",
       "      <td>51.506187</td>\n",
       "      <td>Darkness - lights lit</td>\n",
       "      <td>Kensington and Chelsea</td>\n",
       "      <td>-0.209082</td>\n",
       "      <td>1</td>\n",
       "      <td>2</td>\n",
       "      <td>Dry</td>\n",
       "      <td>Single carriageway</td>\n",
       "      <td>Urban</td>\n",
       "      <td>Fine no high winds</td>\n",
       "      <td>Car</td>\n",
       "    </tr>\n",
       "    <tr>\n",
       "      <th>1</th>\n",
       "      <td>200701BS65737</td>\n",
       "      <td>Serious</td>\n",
       "      <td>02/07/2019</td>\n",
       "      <td>51.495029</td>\n",
       "      <td>Daylight</td>\n",
       "      <td>Kensington and Chelsea</td>\n",
       "      <td>-0.173647</td>\n",
       "      <td>1</td>\n",
       "      <td>2</td>\n",
       "      <td>Wet or damp</td>\n",
       "      <td>Single carriageway</td>\n",
       "      <td>Urban</td>\n",
       "      <td>Raining no high winds</td>\n",
       "      <td>Car</td>\n",
       "    </tr>\n",
       "    <tr>\n",
       "      <th>2</th>\n",
       "      <td>200701BS66127</td>\n",
       "      <td>Serious</td>\n",
       "      <td>26/08/2019</td>\n",
       "      <td>51.517715</td>\n",
       "      <td>Darkness - lighting unknown</td>\n",
       "      <td>Kensington and Chelsea</td>\n",
       "      <td>-0.210215</td>\n",
       "      <td>1</td>\n",
       "      <td>3</td>\n",
       "      <td>Dry</td>\n",
       "      <td>NaN</td>\n",
       "      <td>Urban</td>\n",
       "      <td>NaN</td>\n",
       "      <td>Taxi/Private hire car</td>\n",
       "    </tr>\n",
       "    <tr>\n",
       "      <th>3</th>\n",
       "      <td>200701BS66128</td>\n",
       "      <td>Serious</td>\n",
       "      <td>16/08/2019</td>\n",
       "      <td>51.495478</td>\n",
       "      <td>Daylight</td>\n",
       "      <td>Kensington and Chelsea</td>\n",
       "      <td>-0.202731</td>\n",
       "      <td>1</td>\n",
       "      <td>4</td>\n",
       "      <td>Dry</td>\n",
       "      <td>Single carriageway</td>\n",
       "      <td>Urban</td>\n",
       "      <td>Fine no high winds</td>\n",
       "      <td>Bus or coach (17 or more pass seats)</td>\n",
       "    </tr>\n",
       "    <tr>\n",
       "      <th>4</th>\n",
       "      <td>200701BS66837</td>\n",
       "      <td>Slight</td>\n",
       "      <td>03/09/2019</td>\n",
       "      <td>51.488576</td>\n",
       "      <td>Darkness - lights lit</td>\n",
       "      <td>Kensington and Chelsea</td>\n",
       "      <td>-0.192487</td>\n",
       "      <td>1</td>\n",
       "      <td>2</td>\n",
       "      <td>Dry</td>\n",
       "      <td>NaN</td>\n",
       "      <td>Urban</td>\n",
       "      <td>NaN</td>\n",
       "      <td>Other vehicle</td>\n",
       "    </tr>\n",
       "    <tr>\n",
       "      <th>...</th>\n",
       "      <td>...</td>\n",
       "      <td>...</td>\n",
       "      <td>...</td>\n",
       "      <td>...</td>\n",
       "      <td>...</td>\n",
       "      <td>...</td>\n",
       "      <td>...</td>\n",
       "      <td>...</td>\n",
       "      <td>...</td>\n",
       "      <td>...</td>\n",
       "      <td>...</td>\n",
       "      <td>...</td>\n",
       "      <td>...</td>\n",
       "      <td>...</td>\n",
       "    </tr>\n",
       "    <tr>\n",
       "      <th>660674</th>\n",
       "      <td>201091NM01760</td>\n",
       "      <td>Slight</td>\n",
       "      <td>18/02/2022</td>\n",
       "      <td>57.374005</td>\n",
       "      <td>Daylight</td>\n",
       "      <td>Highland</td>\n",
       "      <td>-3.467828</td>\n",
       "      <td>2</td>\n",
       "      <td>1</td>\n",
       "      <td>Dry</td>\n",
       "      <td>Single carriageway</td>\n",
       "      <td>Rural</td>\n",
       "      <td>Fine no high winds</td>\n",
       "      <td>Car</td>\n",
       "    </tr>\n",
       "    <tr>\n",
       "      <th>660675</th>\n",
       "      <td>201091NM01881</td>\n",
       "      <td>Slight</td>\n",
       "      <td>21/02/2022</td>\n",
       "      <td>57.232273</td>\n",
       "      <td>Darkness - no lighting</td>\n",
       "      <td>Highland</td>\n",
       "      <td>-3.809281</td>\n",
       "      <td>1</td>\n",
       "      <td>1</td>\n",
       "      <td>Frost or ice</td>\n",
       "      <td>Single carriageway</td>\n",
       "      <td>Rural</td>\n",
       "      <td>Fine no high winds</td>\n",
       "      <td>Car</td>\n",
       "    </tr>\n",
       "    <tr>\n",
       "      <th>660676</th>\n",
       "      <td>201091NM01935</td>\n",
       "      <td>Slight</td>\n",
       "      <td>23/02/2022</td>\n",
       "      <td>57.585044</td>\n",
       "      <td>Daylight</td>\n",
       "      <td>Highland</td>\n",
       "      <td>-3.862727</td>\n",
       "      <td>1</td>\n",
       "      <td>3</td>\n",
       "      <td>Frost or ice</td>\n",
       "      <td>Single carriageway</td>\n",
       "      <td>Rural</td>\n",
       "      <td>Fine no high winds</td>\n",
       "      <td>Car</td>\n",
       "    </tr>\n",
       "    <tr>\n",
       "      <th>660677</th>\n",
       "      <td>201091NM01964</td>\n",
       "      <td>Serious</td>\n",
       "      <td>23/02/2022</td>\n",
       "      <td>57.214898</td>\n",
       "      <td>Darkness - no lighting</td>\n",
       "      <td>Highland</td>\n",
       "      <td>-3.823997</td>\n",
       "      <td>1</td>\n",
       "      <td>2</td>\n",
       "      <td>Wet or damp</td>\n",
       "      <td>Single carriageway</td>\n",
       "      <td>Rural</td>\n",
       "      <td>Fine no high winds</td>\n",
       "      <td>Motorcycle over 500cc</td>\n",
       "    </tr>\n",
       "    <tr>\n",
       "      <th>660678</th>\n",
       "      <td>201091NM02142</td>\n",
       "      <td>Serious</td>\n",
       "      <td>28/02/2022</td>\n",
       "      <td>57.575210</td>\n",
       "      <td>Daylight</td>\n",
       "      <td>Highland</td>\n",
       "      <td>-3.895673</td>\n",
       "      <td>1</td>\n",
       "      <td>1</td>\n",
       "      <td>Wet or damp</td>\n",
       "      <td>Dual carriageway</td>\n",
       "      <td>Rural</td>\n",
       "      <td>Snowing no high winds</td>\n",
       "      <td>Car</td>\n",
       "    </tr>\n",
       "  </tbody>\n",
       "</table>\n",
       "<p>660679 rows × 14 columns</p>\n",
       "</div>"
      ],
      "text/plain": [
       "                Index Accident_Severity Accident Date   Latitude  \\\n",
       "0       200701BS64157           Serious    05/06/2019  51.506187   \n",
       "1       200701BS65737           Serious    02/07/2019  51.495029   \n",
       "2       200701BS66127           Serious    26/08/2019  51.517715   \n",
       "3       200701BS66128           Serious    16/08/2019  51.495478   \n",
       "4       200701BS66837            Slight    03/09/2019  51.488576   \n",
       "...               ...               ...           ...        ...   \n",
       "660674  201091NM01760            Slight    18/02/2022  57.374005   \n",
       "660675  201091NM01881            Slight    21/02/2022  57.232273   \n",
       "660676  201091NM01935            Slight    23/02/2022  57.585044   \n",
       "660677  201091NM01964           Serious    23/02/2022  57.214898   \n",
       "660678  201091NM02142           Serious    28/02/2022  57.575210   \n",
       "\n",
       "                   Light_Conditions           District Area  Longitude  \\\n",
       "0             Darkness - lights lit  Kensington and Chelsea  -0.209082   \n",
       "1                          Daylight  Kensington and Chelsea  -0.173647   \n",
       "2       Darkness - lighting unknown  Kensington and Chelsea  -0.210215   \n",
       "3                          Daylight  Kensington and Chelsea  -0.202731   \n",
       "4             Darkness - lights lit  Kensington and Chelsea  -0.192487   \n",
       "...                             ...                     ...        ...   \n",
       "660674                     Daylight                Highland  -3.467828   \n",
       "660675       Darkness - no lighting                Highland  -3.809281   \n",
       "660676                     Daylight                Highland  -3.862727   \n",
       "660677       Darkness - no lighting                Highland  -3.823997   \n",
       "660678                     Daylight                Highland  -3.895673   \n",
       "\n",
       "        Number_of_Casualties  Number_of_Vehicles Road_Surface_Conditions  \\\n",
       "0                          1                   2                     Dry   \n",
       "1                          1                   2             Wet or damp   \n",
       "2                          1                   3                     Dry   \n",
       "3                          1                   4                     Dry   \n",
       "4                          1                   2                     Dry   \n",
       "...                      ...                 ...                     ...   \n",
       "660674                     2                   1                     Dry   \n",
       "660675                     1                   1            Frost or ice   \n",
       "660676                     1                   3            Frost or ice   \n",
       "660677                     1                   2             Wet or damp   \n",
       "660678                     1                   1             Wet or damp   \n",
       "\n",
       "                 Road_Type Urban_or_Rural_Area     Weather_Conditions  \\\n",
       "0       Single carriageway               Urban     Fine no high winds   \n",
       "1       Single carriageway               Urban  Raining no high winds   \n",
       "2                      NaN               Urban                    NaN   \n",
       "3       Single carriageway               Urban     Fine no high winds   \n",
       "4                      NaN               Urban                    NaN   \n",
       "...                    ...                 ...                    ...   \n",
       "660674  Single carriageway               Rural     Fine no high winds   \n",
       "660675  Single carriageway               Rural     Fine no high winds   \n",
       "660676  Single carriageway               Rural     Fine no high winds   \n",
       "660677  Single carriageway               Rural     Fine no high winds   \n",
       "660678    Dual carriageway               Rural  Snowing no high winds   \n",
       "\n",
       "                                Vehicle_Type  \n",
       "0                                        Car  \n",
       "1                                        Car  \n",
       "2                      Taxi/Private hire car  \n",
       "3       Bus or coach (17 or more pass seats)  \n",
       "4                              Other vehicle  \n",
       "...                                      ...  \n",
       "660674                                   Car  \n",
       "660675                                   Car  \n",
       "660676                                   Car  \n",
       "660677                 Motorcycle over 500cc  \n",
       "660678                                   Car  \n",
       "\n",
       "[660679 rows x 14 columns]"
      ]
     },
     "execution_count": 3,
     "metadata": {},
     "output_type": "execute_result"
    }
   ],
   "source": [
    "car\n"
   ]
  },
  {
   "cell_type": "code",
   "execution_count": 4,
   "id": "4c1b871d-0c92-49e8-8248-d40ccd275130",
   "metadata": {},
   "outputs": [
    {
     "data": {
      "text/html": [
       "<div>\n",
       "<style scoped>\n",
       "    .dataframe tbody tr th:only-of-type {\n",
       "        vertical-align: middle;\n",
       "    }\n",
       "\n",
       "    .dataframe tbody tr th {\n",
       "        vertical-align: top;\n",
       "    }\n",
       "\n",
       "    .dataframe thead th {\n",
       "        text-align: right;\n",
       "    }\n",
       "</style>\n",
       "<table border=\"1\" class=\"dataframe\">\n",
       "  <thead>\n",
       "    <tr style=\"text-align: right;\">\n",
       "      <th></th>\n",
       "      <th>Latitude</th>\n",
       "      <th>Longitude</th>\n",
       "      <th>Number_of_Casualties</th>\n",
       "      <th>Number_of_Vehicles</th>\n",
       "    </tr>\n",
       "  </thead>\n",
       "  <tbody>\n",
       "    <tr>\n",
       "      <th>count</th>\n",
       "      <td>660654.000000</td>\n",
       "      <td>660653.000000</td>\n",
       "      <td>660679.000000</td>\n",
       "      <td>660679.000000</td>\n",
       "    </tr>\n",
       "    <tr>\n",
       "      <th>mean</th>\n",
       "      <td>52.553866</td>\n",
       "      <td>-1.431210</td>\n",
       "      <td>1.357040</td>\n",
       "      <td>1.831255</td>\n",
       "    </tr>\n",
       "    <tr>\n",
       "      <th>std</th>\n",
       "      <td>1.406922</td>\n",
       "      <td>1.383330</td>\n",
       "      <td>0.824847</td>\n",
       "      <td>0.715269</td>\n",
       "    </tr>\n",
       "    <tr>\n",
       "      <th>min</th>\n",
       "      <td>49.914430</td>\n",
       "      <td>-7.516225</td>\n",
       "      <td>1.000000</td>\n",
       "      <td>1.000000</td>\n",
       "    </tr>\n",
       "    <tr>\n",
       "      <th>25%</th>\n",
       "      <td>51.490690</td>\n",
       "      <td>-2.332291</td>\n",
       "      <td>1.000000</td>\n",
       "      <td>1.000000</td>\n",
       "    </tr>\n",
       "    <tr>\n",
       "      <th>50%</th>\n",
       "      <td>52.315641</td>\n",
       "      <td>-1.411667</td>\n",
       "      <td>1.000000</td>\n",
       "      <td>2.000000</td>\n",
       "    </tr>\n",
       "    <tr>\n",
       "      <th>75%</th>\n",
       "      <td>53.453452</td>\n",
       "      <td>-0.232869</td>\n",
       "      <td>1.000000</td>\n",
       "      <td>2.000000</td>\n",
       "    </tr>\n",
       "    <tr>\n",
       "      <th>max</th>\n",
       "      <td>60.757544</td>\n",
       "      <td>1.762010</td>\n",
       "      <td>68.000000</td>\n",
       "      <td>32.000000</td>\n",
       "    </tr>\n",
       "  </tbody>\n",
       "</table>\n",
       "</div>"
      ],
      "text/plain": [
       "            Latitude      Longitude  Number_of_Casualties  Number_of_Vehicles\n",
       "count  660654.000000  660653.000000         660679.000000       660679.000000\n",
       "mean       52.553866      -1.431210              1.357040            1.831255\n",
       "std         1.406922       1.383330              0.824847            0.715269\n",
       "min        49.914430      -7.516225              1.000000            1.000000\n",
       "25%        51.490690      -2.332291              1.000000            1.000000\n",
       "50%        52.315641      -1.411667              1.000000            2.000000\n",
       "75%        53.453452      -0.232869              1.000000            2.000000\n",
       "max        60.757544       1.762010             68.000000           32.000000"
      ]
     },
     "execution_count": 4,
     "metadata": {},
     "output_type": "execute_result"
    }
   ],
   "source": [
    "car.describe()"
   ]
  },
  {
   "cell_type": "markdown",
   "id": "70415a02-9306-4071-ba96-71502b868e51",
   "metadata": {},
   "source": [
    "CHECK ISNULL VALUES"
   ]
  },
  {
   "cell_type": "code",
   "execution_count": 5,
   "id": "04b86032-1a1f-40b6-8a36-eadcda296aac",
   "metadata": {},
   "outputs": [
    {
     "data": {
      "text/plain": [
       "Index                          0\n",
       "Accident_Severity              0\n",
       "Accident Date                  0\n",
       "Latitude                      25\n",
       "Light_Conditions               0\n",
       "District Area                  0\n",
       "Longitude                     26\n",
       "Number_of_Casualties           0\n",
       "Number_of_Vehicles             0\n",
       "Road_Surface_Conditions      726\n",
       "Road_Type                   4520\n",
       "Urban_or_Rural_Area           15\n",
       "Weather_Conditions         14128\n",
       "Vehicle_Type                   0\n",
       "dtype: int64"
      ]
     },
     "execution_count": 5,
     "metadata": {},
     "output_type": "execute_result"
    }
   ],
   "source": [
    "car.isnull().sum()"
   ]
  },
  {
   "cell_type": "markdown",
   "id": "1d173fd8-088d-4a45-bd78-40f44d845365",
   "metadata": {},
   "source": [
    "<h1>FILL UP ISNULL VALUES</h1>"
   ]
  },
  {
   "cell_type": "code",
   "execution_count": 6,
   "id": "8e4a4d2f-306e-4460-9c21-d99b2c276726",
   "metadata": {},
   "outputs": [],
   "source": [
    "car['Longitude'] = car['Longitude'].fillna(car['Longitude'].mean())\n",
    "car['Latitude'] = car['Latitude'].fillna(car['Longitude'].mean())\n",
    "car['Road_Surface_Conditions'] = car['Road_Surface_Conditions'].fillna('Dry')\n",
    "car['Road_Type'] = car['Road_Type'].fillna('Single Carriageway')\n",
    "car['Urban_or_Rural_Area'] = car['Urban_or_Rural_Area'].fillna('Urban')\n",
    "car['Weather_Conditions'] = car['Weather_Conditions'].fillna('Fine')\n"
   ]
  },
  {
   "cell_type": "code",
   "execution_count": 7,
   "id": "7cb49367-0695-4df1-b80b-c57abecae3cc",
   "metadata": {},
   "outputs": [
    {
     "data": {
      "text/plain": [
       "Index                      0\n",
       "Accident_Severity          0\n",
       "Accident Date              0\n",
       "Latitude                   0\n",
       "Light_Conditions           0\n",
       "District Area              0\n",
       "Longitude                  0\n",
       "Number_of_Casualties       0\n",
       "Number_of_Vehicles         0\n",
       "Road_Surface_Conditions    0\n",
       "Road_Type                  0\n",
       "Urban_or_Rural_Area        0\n",
       "Weather_Conditions         0\n",
       "Vehicle_Type               0\n",
       "dtype: int64"
      ]
     },
     "execution_count": 7,
     "metadata": {},
     "output_type": "execute_result"
    }
   ],
   "source": [
    "car.isnull().sum()"
   ]
  },
  {
   "cell_type": "markdown",
   "id": "cb471c43-aaf1-42d5-bf14-613338a1f1dc",
   "metadata": {},
   "source": [
    "CHANGING DATA TYPES\n"
   ]
  },
  {
   "cell_type": "code",
   "execution_count": 8,
   "id": "02d095d5-e3cd-4ef3-8aca-ed98aad61eae",
   "metadata": {},
   "outputs": [
    {
     "data": {
      "text/plain": [
       "Index                       object\n",
       "Accident_Severity           object\n",
       "Accident Date               object\n",
       "Latitude                   float64\n",
       "Light_Conditions            object\n",
       "District Area               object\n",
       "Longitude                  float64\n",
       "Number_of_Casualties         int64\n",
       "Number_of_Vehicles           int64\n",
       "Road_Surface_Conditions     object\n",
       "Road_Type                   object\n",
       "Urban_or_Rural_Area         object\n",
       "Weather_Conditions          object\n",
       "Vehicle_Type                object\n",
       "dtype: object"
      ]
     },
     "execution_count": 8,
     "metadata": {},
     "output_type": "execute_result"
    }
   ],
   "source": [
    "car.dtypes"
   ]
  },
  {
   "cell_type": "code",
   "execution_count": 9,
   "id": "34b6228c-aa2c-4d81-b9e2-ee5bc892e76e",
   "metadata": {},
   "outputs": [],
   "source": [
    "car['Accident_Severity'] = car ['Accident_Severity'].astype(\"category\")\n",
    "car['Light_Conditions'] = car ['Light_Conditions'].astype(\"category\")\n",
    "car['District Area'] = car ['District Area'].astype(\"category\")\n",
    "car['Road_Surface_Conditions'] = car ['Road_Surface_Conditions'].astype(\"category\")\n",
    "car['Road_Type'] = car ['Road_Type'].astype(\"category\")\n",
    "car['Urban_or_Rural_Area'] = car ['Urban_or_Rural_Area'].astype(\"category\")\n",
    "car['Weather_Conditions'] = car ['Weather_Conditions'].astype(\"category\")\n",
    "car['Vehicle_Type'] = car ['Vehicle_Type'].astype(\"category\")\n",
    "car['Accident Date'] = pd.to_datetime(car['Accident Date'], dayfirst = True, errors = \"coerce\")"
   ]
  },
  {
   "cell_type": "markdown",
   "id": "1aca72c2-743c-4f87-ae31-50425605c738",
   "metadata": {},
   "source": [
    "<h1>EXTRACT DATE INFO</h1>"
   ]
  },
  {
   "cell_type": "code",
   "execution_count": 10,
   "id": "dae34eca-bb42-4747-bc39-6cceee2e8214",
   "metadata": {},
   "outputs": [],
   "source": [
    "car['Year'] = car ['Accident Date'].dt.year\n",
    "car['Month'] = car ['Accident Date'].dt.month\n",
    "car['Day'] = car ['Accident Date'].dt.day\n",
    "car['Days of Week'] = car ['Accident Date'].dt.dayofweek\n",
    "car['Days of Week'] = car ['Accident Date'].dt.day_name()"
   ]
  },
  {
   "cell_type": "code",
   "execution_count": 11,
   "id": "380e1447-6a20-4ced-aaa0-b9ddcba69d53",
   "metadata": {},
   "outputs": [
    {
     "data": {
      "text/plain": [
       "Index                              object\n",
       "Accident_Severity                category\n",
       "Accident Date              datetime64[ns]\n",
       "Latitude                          float64\n",
       "Light_Conditions                 category\n",
       "District Area                    category\n",
       "Longitude                         float64\n",
       "Number_of_Casualties                int64\n",
       "Number_of_Vehicles                  int64\n",
       "Road_Surface_Conditions          category\n",
       "Road_Type                        category\n",
       "Urban_or_Rural_Area              category\n",
       "Weather_Conditions               category\n",
       "Vehicle_Type                     category\n",
       "Year                                int32\n",
       "Month                               int32\n",
       "Day                                 int32\n",
       "Days of Week                       object\n",
       "dtype: object"
      ]
     },
     "execution_count": 11,
     "metadata": {},
     "output_type": "execute_result"
    }
   ],
   "source": [
    "car.dtypes"
   ]
  },
  {
   "cell_type": "markdown",
   "id": "318079cb-d22f-4739-b67c-dbd69e0a96d6",
   "metadata": {},
   "source": [
    "<h1>QUESTIONS</h1>"
   ]
  },
  {
   "cell_type": "markdown",
   "id": "c64e97bb-d71f-4128-b2d1-e10f14753e8e",
   "metadata": {},
   "source": [
    "<h3>1. Is there a correlation between number of vehicles and number of casualties?</h3>"
   ]
  },
  {
   "cell_type": "code",
   "execution_count": 12,
   "id": "01b07066-dacc-4af5-92f5-110fe7308294",
   "metadata": {},
   "outputs": [],
   "source": [
    "vehicle_casualties_corr = car['Number_of_Vehicles'].corr(car['Number_of_Casualties'])"
   ]
  },
  {
   "cell_type": "code",
   "execution_count": 13,
   "id": "ebf8cc7b-735d-4b48-af9e-922767bd2c46",
   "metadata": {},
   "outputs": [
    {
     "data": {
      "text/plain": [
       "np.float64(0.22888886126927557)"
      ]
     },
     "execution_count": 13,
     "metadata": {},
     "output_type": "execute_result"
    }
   ],
   "source": [
    "vehicle_casualties_corr"
   ]
  },
  {
   "cell_type": "markdown",
   "id": "7fdbf841-41e6-4f58-b7a4-62abd5c6c3f4",
   "metadata": {},
   "source": [
    "<h2>Insight No. 1</h2>\n",
    "<h4>The correlation between Number of Vehicles and Number of Casualties is 0.23. This means that accidents involving more vehicles tend to have slightly more casualties, but the relationship is weak. </h4>\n",
    "<hr>"
   ]
  },
  {
   "cell_type": "markdown",
   "id": "886fa724-68b3-4357-ae94-b7d02329e0ba",
   "metadata": {},
   "source": [
    "<h3>2. Does accident severity correlate with the number of casualties?</h3>"
   ]
  },
  {
   "cell_type": "code",
   "execution_count": 14,
   "id": "7c48ea45-5509-40cd-93fe-2b5d4a745c3d",
   "metadata": {},
   "outputs": [],
   "source": [
    "severity_map = {'Slight': 1, 'Serious': 2, 'Fatal': 3}\n",
    "car['Accident_Severity_Num'] = car['Accident_Severity'].map(severity_map)\n",
    "severity_casualties_corr = car['Accident_Severity_Num'].corr(car['Number_of_Casualties'])"
   ]
  },
  {
   "cell_type": "code",
   "execution_count": 15,
   "id": "c2cb7164-6a55-4a1a-aa5f-e36f90c2fa76",
   "metadata": {},
   "outputs": [
    {
     "data": {
      "text/plain": [
       "np.float64(0.08788637762883476)"
      ]
     },
     "execution_count": 15,
     "metadata": {},
     "output_type": "execute_result"
    }
   ],
   "source": [
    "severity_casualties_corr"
   ]
  },
  {
   "cell_type": "markdown",
   "id": "e59dc231-a8b6-46eb-b128-90c561f94256",
   "metadata": {},
   "source": [
    "<h2>Insight No. 2</h2>\n",
    "<h4>As you can see, the result is \"0.08788637762883476,\" meaning there is NO correlation between Severity and the Number of Casualties </h4>\n",
    "<hr>"
   ]
  },
  {
   "cell_type": "markdown",
   "id": "f771aef2-6a13-47bd-a841-fd71e2cfe79a",
   "metadata": {},
   "source": [
    "<h3>3. Is there a correlation between latitude and number of casualties (accident location vs. casualties)?</h3>"
   ]
  },
  {
   "cell_type": "code",
   "execution_count": 16,
   "id": "bf10c060-9eea-49d3-811b-1f83327ea258",
   "metadata": {},
   "outputs": [],
   "source": [
    "lat_casualties_corr = car['Latitude'].corr(car['Number_of_Casualties'])"
   ]
  },
  {
   "cell_type": "code",
   "execution_count": 17,
   "id": "41f35ad0-360f-44f8-8323-42040d0698c0",
   "metadata": {},
   "outputs": [
    {
     "data": {
      "text/plain": [
       "np.float64(0.031677083264069886)"
      ]
     },
     "execution_count": 17,
     "metadata": {},
     "output_type": "execute_result"
    }
   ],
   "source": [
    "lat_casualties_corr"
   ]
  },
  {
   "cell_type": "markdown",
   "id": "3db4d9e1-9033-4e38-94cf-a1ba292cbde2",
   "metadata": {},
   "source": [
    "<h2>Insight No. 3</h2>\n",
    "<h4>The correlation between latitude and number of casualties is 0.032. This value is very close to zero, which means there is essentially no linear relationship between accident location (latitude) and the number of casualties.</h4>\n",
    "<hr>"
   ]
  },
  {
   "cell_type": "markdown",
   "id": "0d3efb72-f2c0-4073-9e0d-24c8e47fe170",
   "metadata": {},
   "source": [
    "<h3>4. What is the correlation between longitude and accident severity (encoded numerically)?\n",
    "</h3>"
   ]
  },
  {
   "cell_type": "code",
   "execution_count": 18,
   "id": "3994dab6-ff57-4087-841e-6f3ade90bffc",
   "metadata": {},
   "outputs": [],
   "source": [
    "severity_map = {'Slight': 1, 'Serious': 2, 'Fatal': 3}\n",
    "car['Accident_Severity_Num'] = car['Accident_Severity'].map(severity_map)\n",
    "long_severity_corr = car['Longitude'].corr(car['Accident_Severity_Num'])"
   ]
  },
  {
   "cell_type": "code",
   "execution_count": 19,
   "id": "d5bff483-b325-49d5-a265-cdb19d1801d4",
   "metadata": {},
   "outputs": [
    {
     "data": {
      "text/plain": [
       "np.float64(-0.004379430003664336)"
      ]
     },
     "execution_count": 19,
     "metadata": {},
     "output_type": "execute_result"
    }
   ],
   "source": [
    "long_severity_corr"
   ]
  },
  {
   "cell_type": "markdown",
   "id": "e74ca53c-9b5e-4c9f-9b11-c4307cc82574",
   "metadata": {},
   "source": [
    "<h2>Insight No. 4</h2>\n",
    "<h4>As you can see, the result is \"-0.004379430003664336,\" meaning there is NO correlation between Longtitude and the Accident Severity</h4>\n",
    "<hr>"
   ]
  },
  {
   "cell_type": "markdown",
   "id": "8c579bff-c926-42ee-9a02-ee698e555be4",
   "metadata": {},
   "source": [
    "<H3>5. What is the average number of vehicles per Light_Condition?</H3>"
   ]
  },
  {
   "cell_type": "code",
   "execution_count": 20,
   "id": "7a6e4089-5341-4e05-8eab-b3daead8575e",
   "metadata": {},
   "outputs": [],
   "source": [
    "avg_vehicles_per_light = car.groupby('Light_Conditions')['Number_of_Vehicles'].mean().sort_values(ascending=True)"
   ]
  },
  {
   "cell_type": "code",
   "execution_count": 21,
   "id": "e48e463d-73a4-4632-a631-17720cdca926",
   "metadata": {},
   "outputs": [
    {
     "data": {
      "text/plain": [
       "Light_Conditions\n",
       "Darkness - no lighting         1.599781\n",
       "Darkness - lights unlit        1.752654\n",
       "Darkness - lighting unknown    1.758482\n",
       "Darkness - lights lit          1.775498\n",
       "Daylight                       1.865385\n",
       "Name: Number_of_Vehicles, dtype: float64"
      ]
     },
     "execution_count": 21,
     "metadata": {},
     "output_type": "execute_result"
    }
   ],
   "source": [
    "avg_vehicles_per_light"
   ]
  },
  {
   "cell_type": "markdown",
   "id": "7f702219-5e92-4301-8be1-ad94d4e0239e",
   "metadata": {},
   "source": [
    "<h2>Insight No. 5</h2>\n",
    "<h4>As you can see, Daylight has the highest average of accident.</h4>\n",
    "<hr>"
   ]
  },
  {
   "cell_type": "markdown",
   "id": "c323a404-4d23-4a08-956d-65b56a9e762d",
   "metadata": {},
   "source": [
    "<h2>Insight No. 6</h2>\n",
    "<h3>Darkness – no lighting has the lowest average number of vehicles involved.</h3>\n",
    "<hr>"
   ]
  },
  {
   "cell_type": "markdown",
   "id": "bc4a7a72-79ef-4c39-b5bc-491a37d1ee02",
   "metadata": {},
   "source": [
    "<H3>6. Which District Area has the highest mean number of casualties?</H3>"
   ]
  },
  {
   "cell_type": "code",
   "execution_count": 22,
   "id": "3bb24021-06ac-4690-87e8-68220c334a30",
   "metadata": {},
   "outputs": [
    {
     "data": {
      "text/plain": [
       "District Area\n",
       "Birmingham            13491\n",
       "Leeds                  8898\n",
       "Manchester             6720\n",
       "Bradford               6212\n",
       "Sheffield              5710\n",
       "                      ...  \n",
       "Berwick-upon-Tweed      153\n",
       "Teesdale                142\n",
       "Shetland Islands        133\n",
       "Orkney Islands          117\n",
       "Clackmannanshire         91\n",
       "Name: count, Length: 422, dtype: int64"
      ]
     },
     "execution_count": 22,
     "metadata": {},
     "output_type": "execute_result"
    }
   ],
   "source": [
    "car['District Area'].value_counts()"
   ]
  },
  {
   "cell_type": "code",
   "execution_count": 23,
   "id": "3f7bb879-0bc2-4c93-9483-4073e99ae7ea",
   "metadata": {},
   "outputs": [],
   "source": [
    "avg_casualties_by_district = car.groupby('District Area')['Number_of_Casualties'].mean()\n",
    "highest_district = avg_casualties_by_district.idxmax()"
   ]
  },
  {
   "cell_type": "code",
   "execution_count": 24,
   "id": "fa786157-212d-4633-b0fc-491a94f13d80",
   "metadata": {},
   "outputs": [
    {
     "data": {
      "text/plain": [
       "'Blaeu Gwent'"
      ]
     },
     "execution_count": 24,
     "metadata": {},
     "output_type": "execute_result"
    }
   ],
   "source": [
    "highest_district"
   ]
  },
  {
   "cell_type": "markdown",
   "id": "5f520696-76c7-4ce0-8f7b-443b9c02e23b",
   "metadata": {},
   "source": [
    "<h2>Insight No. 7</h2>\n",
    "<h4>As you can see, among all the district area ,Blaeu Gwent has the highest number of casualties </h4>\n",
    "<hr>"
   ]
  },
  {
   "cell_type": "markdown",
   "id": "fe422bea-ab3c-4a53-a4f0-c8be308bcb16",
   "metadata": {},
   "source": [
    "<h3>7. Which District Area has the highest mean number of casualties? </h3>"
   ]
  },
  {
   "cell_type": "code",
   "execution_count": 25,
   "id": "dd77920d-8402-4fcf-bcc0-25cbe9b6f415",
   "metadata": {},
   "outputs": [],
   "source": [
    "avg_casualties_by_district = car.groupby('District Area')['Number_of_Casualties'].mean()"
   ]
  },
  {
   "cell_type": "code",
   "execution_count": 26,
   "id": "7683d4d5-a6a6-4b15-8807-33a691ea23ff",
   "metadata": {},
   "outputs": [
    {
     "data": {
      "text/plain": [
       "District Area\n",
       "Aberdeen City    1.139834\n",
       "Aberdeenshire    1.310363\n",
       "Adur             1.319871\n",
       "Allerdale        1.474291\n",
       "Alnwick          1.512931\n",
       "                   ...   \n",
       "Wychavon         1.427627\n",
       "Wycombe          1.412377\n",
       "Wyre             1.378029\n",
       "Wyre Forest      1.382869\n",
       "York             1.293094\n",
       "Name: Number_of_Casualties, Length: 422, dtype: float64"
      ]
     },
     "execution_count": 26,
     "metadata": {},
     "output_type": "execute_result"
    }
   ],
   "source": [
    "avg_casualties_by_district"
   ]
  },
  {
   "cell_type": "code",
   "execution_count": 27,
   "id": "c11236a0-e0da-4ab2-a00a-dcd6818f9a82",
   "metadata": {},
   "outputs": [],
   "source": [
    "highest_district = avg_casualties_by_district.idxmax()\n",
    "highest_value = avg_casualties_by_district.max()"
   ]
  },
  {
   "cell_type": "code",
   "execution_count": 28,
   "id": "852ab7bd-2a2a-403d-941e-b4c872a2e766",
   "metadata": {},
   "outputs": [
    {
     "name": "stdout",
     "output_type": "stream",
     "text": [
      "\n",
      "District Area with highest mean number of casualties: Blaeu Gwent (1.69 casualties per accident)\n"
     ]
    }
   ],
   "source": [
    "print(f\"\\nDistrict Area with highest mean number of casualties: {highest_district} ({highest_value:.2f} casualties per accident)\")\n"
   ]
  },
  {
   "cell_type": "markdown",
   "id": "b15b1ccc-db1f-48a4-8ac2-0cf857378ba9",
   "metadata": {},
   "source": [
    "<h2>Insight No. 8</h2>\n",
    "<h4>Among all district areas, Blaeu Gwent has the highest average number of casualties per accident at 1.69.</h4>\n",
    "<hr>"
   ]
  },
  {
   "cell_type": "markdown",
   "id": "1ec34f49-2af5-42c5-8f3b-118b7c984ad4",
   "metadata": {},
   "source": [
    "<h3>8. Which Weather_Conditions are associated with the highest average number of casualties?</h3>"
   ]
  },
  {
   "cell_type": "code",
   "execution_count": 29,
   "id": "874ff105-ad80-4a02-9cf8-c5209ba5f509",
   "metadata": {},
   "outputs": [],
   "source": [
    "avg_casualties_by_weather = car.groupby('Weather_Conditions')['Number_of_Casualties'].mean()\n",
    "highest_weather = avg_casualties_by_weather.idxmax()\n"
   ]
  },
  {
   "cell_type": "code",
   "execution_count": 30,
   "id": "d14a0507-8629-48e9-ad54-216fa6d47c2e",
   "metadata": {},
   "outputs": [
    {
     "data": {
      "text/plain": [
       "'Fog or mist'"
      ]
     },
     "execution_count": 30,
     "metadata": {},
     "output_type": "execute_result"
    }
   ],
   "source": [
    "highest_weather"
   ]
  },
  {
   "cell_type": "markdown",
   "id": "e539d9ad-52d9-4bc4-91cc-1e127cc5c3de",
   "metadata": {},
   "source": [
    "<h2>Insight No. 9</h2>\n",
    "<h4>As you can see, the weather conditions that has the highest average of casualties is Fog or Mist</h4>\n",
    "<hr>"
   ]
  },
  {
   "cell_type": "markdown",
   "id": "4a50b875-b83f-427d-a53a-e63f20980a96",
   "metadata": {},
   "source": [
    "<h3>9. Which Vehicle_Type is most frequently involved in accidents with high severity?</h3>"
   ]
  },
  {
   "cell_type": "code",
   "execution_count": 31,
   "id": "a75b7e5b-3c17-4c8f-b4da-7a92b253e57e",
   "metadata": {},
   "outputs": [
    {
     "data": {
      "text/html": [
       "<div>\n",
       "<style scoped>\n",
       "    .dataframe tbody tr th:only-of-type {\n",
       "        vertical-align: middle;\n",
       "    }\n",
       "\n",
       "    .dataframe tbody tr th {\n",
       "        vertical-align: top;\n",
       "    }\n",
       "\n",
       "    .dataframe thead th {\n",
       "        text-align: right;\n",
       "    }\n",
       "</style>\n",
       "<table border=\"1\" class=\"dataframe\">\n",
       "  <thead>\n",
       "    <tr style=\"text-align: right;\">\n",
       "      <th></th>\n",
       "      <th>Index</th>\n",
       "      <th>Accident_Severity</th>\n",
       "      <th>Accident Date</th>\n",
       "      <th>Latitude</th>\n",
       "      <th>Light_Conditions</th>\n",
       "      <th>District Area</th>\n",
       "      <th>Longitude</th>\n",
       "      <th>Number_of_Casualties</th>\n",
       "      <th>Number_of_Vehicles</th>\n",
       "      <th>Road_Surface_Conditions</th>\n",
       "      <th>Road_Type</th>\n",
       "      <th>Urban_or_Rural_Area</th>\n",
       "      <th>Weather_Conditions</th>\n",
       "      <th>Vehicle_Type</th>\n",
       "      <th>Year</th>\n",
       "      <th>Month</th>\n",
       "      <th>Day</th>\n",
       "      <th>Days of Week</th>\n",
       "      <th>Accident_Severity_Num</th>\n",
       "    </tr>\n",
       "  </thead>\n",
       "  <tbody>\n",
       "    <tr>\n",
       "      <th>0</th>\n",
       "      <td>200701BS64157</td>\n",
       "      <td>Serious</td>\n",
       "      <td>2019-06-05</td>\n",
       "      <td>51.506187</td>\n",
       "      <td>Darkness - lights lit</td>\n",
       "      <td>Kensington and Chelsea</td>\n",
       "      <td>-0.209082</td>\n",
       "      <td>1</td>\n",
       "      <td>2</td>\n",
       "      <td>Dry</td>\n",
       "      <td>Single carriageway</td>\n",
       "      <td>Urban</td>\n",
       "      <td>Fine no high winds</td>\n",
       "      <td>Car</td>\n",
       "      <td>2019</td>\n",
       "      <td>6</td>\n",
       "      <td>5</td>\n",
       "      <td>Wednesday</td>\n",
       "      <td>2</td>\n",
       "    </tr>\n",
       "    <tr>\n",
       "      <th>1</th>\n",
       "      <td>200701BS65737</td>\n",
       "      <td>Serious</td>\n",
       "      <td>2019-07-02</td>\n",
       "      <td>51.495029</td>\n",
       "      <td>Daylight</td>\n",
       "      <td>Kensington and Chelsea</td>\n",
       "      <td>-0.173647</td>\n",
       "      <td>1</td>\n",
       "      <td>2</td>\n",
       "      <td>Wet or damp</td>\n",
       "      <td>Single carriageway</td>\n",
       "      <td>Urban</td>\n",
       "      <td>Raining no high winds</td>\n",
       "      <td>Car</td>\n",
       "      <td>2019</td>\n",
       "      <td>7</td>\n",
       "      <td>2</td>\n",
       "      <td>Tuesday</td>\n",
       "      <td>2</td>\n",
       "    </tr>\n",
       "    <tr>\n",
       "      <th>2</th>\n",
       "      <td>200701BS66127</td>\n",
       "      <td>Serious</td>\n",
       "      <td>2019-08-26</td>\n",
       "      <td>51.517715</td>\n",
       "      <td>Darkness - lighting unknown</td>\n",
       "      <td>Kensington and Chelsea</td>\n",
       "      <td>-0.210215</td>\n",
       "      <td>1</td>\n",
       "      <td>3</td>\n",
       "      <td>Dry</td>\n",
       "      <td>Single Carriageway</td>\n",
       "      <td>Urban</td>\n",
       "      <td>Fine</td>\n",
       "      <td>Taxi/Private hire car</td>\n",
       "      <td>2019</td>\n",
       "      <td>8</td>\n",
       "      <td>26</td>\n",
       "      <td>Monday</td>\n",
       "      <td>2</td>\n",
       "    </tr>\n",
       "    <tr>\n",
       "      <th>3</th>\n",
       "      <td>200701BS66128</td>\n",
       "      <td>Serious</td>\n",
       "      <td>2019-08-16</td>\n",
       "      <td>51.495478</td>\n",
       "      <td>Daylight</td>\n",
       "      <td>Kensington and Chelsea</td>\n",
       "      <td>-0.202731</td>\n",
       "      <td>1</td>\n",
       "      <td>4</td>\n",
       "      <td>Dry</td>\n",
       "      <td>Single carriageway</td>\n",
       "      <td>Urban</td>\n",
       "      <td>Fine no high winds</td>\n",
       "      <td>Bus or coach (17 or more pass seats)</td>\n",
       "      <td>2019</td>\n",
       "      <td>8</td>\n",
       "      <td>16</td>\n",
       "      <td>Friday</td>\n",
       "      <td>2</td>\n",
       "    </tr>\n",
       "    <tr>\n",
       "      <th>5</th>\n",
       "      <td>200701BS67159</td>\n",
       "      <td>Serious</td>\n",
       "      <td>2019-09-18</td>\n",
       "      <td>51.497750</td>\n",
       "      <td>Daylight</td>\n",
       "      <td>Kensington and Chelsea</td>\n",
       "      <td>-0.192556</td>\n",
       "      <td>2</td>\n",
       "      <td>3</td>\n",
       "      <td>Dry</td>\n",
       "      <td>Single carriageway</td>\n",
       "      <td>Urban</td>\n",
       "      <td>Fine no high winds</td>\n",
       "      <td>Car</td>\n",
       "      <td>2019</td>\n",
       "      <td>9</td>\n",
       "      <td>18</td>\n",
       "      <td>Wednesday</td>\n",
       "      <td>2</td>\n",
       "    </tr>\n",
       "    <tr>\n",
       "      <th>...</th>\n",
       "      <td>...</td>\n",
       "      <td>...</td>\n",
       "      <td>...</td>\n",
       "      <td>...</td>\n",
       "      <td>...</td>\n",
       "      <td>...</td>\n",
       "      <td>...</td>\n",
       "      <td>...</td>\n",
       "      <td>...</td>\n",
       "      <td>...</td>\n",
       "      <td>...</td>\n",
       "      <td>...</td>\n",
       "      <td>...</td>\n",
       "      <td>...</td>\n",
       "      <td>...</td>\n",
       "      <td>...</td>\n",
       "      <td>...</td>\n",
       "      <td>...</td>\n",
       "      <td>...</td>\n",
       "    </tr>\n",
       "    <tr>\n",
       "      <th>660629</th>\n",
       "      <td>201091NL00686</td>\n",
       "      <td>Serious</td>\n",
       "      <td>2022-02-11</td>\n",
       "      <td>57.687933</td>\n",
       "      <td>Daylight</td>\n",
       "      <td>Shetland Islands</td>\n",
       "      <td>-4.176860</td>\n",
       "      <td>1</td>\n",
       "      <td>2</td>\n",
       "      <td>Dry</td>\n",
       "      <td>Single carriageway</td>\n",
       "      <td>Rural</td>\n",
       "      <td>Fine + high winds</td>\n",
       "      <td>Car</td>\n",
       "      <td>2022</td>\n",
       "      <td>2</td>\n",
       "      <td>11</td>\n",
       "      <td>Friday</td>\n",
       "      <td>2</td>\n",
       "    </tr>\n",
       "    <tr>\n",
       "      <th>660645</th>\n",
       "      <td>201091NL05842</td>\n",
       "      <td>Serious</td>\n",
       "      <td>2022-10-18</td>\n",
       "      <td>60.162660</td>\n",
       "      <td>Daylight</td>\n",
       "      <td>Shetland Islands</td>\n",
       "      <td>-1.165232</td>\n",
       "      <td>1</td>\n",
       "      <td>1</td>\n",
       "      <td>Dry</td>\n",
       "      <td>Single carriageway</td>\n",
       "      <td>Rural</td>\n",
       "      <td>Fine + high winds</td>\n",
       "      <td>Car</td>\n",
       "      <td>2022</td>\n",
       "      <td>10</td>\n",
       "      <td>18</td>\n",
       "      <td>Tuesday</td>\n",
       "      <td>2</td>\n",
       "    </tr>\n",
       "    <tr>\n",
       "      <th>660672</th>\n",
       "      <td>201091NM01085</td>\n",
       "      <td>Serious</td>\n",
       "      <td>2022-01-29</td>\n",
       "      <td>57.170725</td>\n",
       "      <td>Daylight</td>\n",
       "      <td>Highland</td>\n",
       "      <td>-3.852421</td>\n",
       "      <td>1</td>\n",
       "      <td>2</td>\n",
       "      <td>Snow</td>\n",
       "      <td>Single carriageway</td>\n",
       "      <td>Rural</td>\n",
       "      <td>Fine no high winds</td>\n",
       "      <td>Car</td>\n",
       "      <td>2022</td>\n",
       "      <td>1</td>\n",
       "      <td>29</td>\n",
       "      <td>Saturday</td>\n",
       "      <td>2</td>\n",
       "    </tr>\n",
       "    <tr>\n",
       "      <th>660677</th>\n",
       "      <td>201091NM01964</td>\n",
       "      <td>Serious</td>\n",
       "      <td>2022-02-23</td>\n",
       "      <td>57.214898</td>\n",
       "      <td>Darkness - no lighting</td>\n",
       "      <td>Highland</td>\n",
       "      <td>-3.823997</td>\n",
       "      <td>1</td>\n",
       "      <td>2</td>\n",
       "      <td>Wet or damp</td>\n",
       "      <td>Single carriageway</td>\n",
       "      <td>Rural</td>\n",
       "      <td>Fine no high winds</td>\n",
       "      <td>Motorcycle over 500cc</td>\n",
       "      <td>2022</td>\n",
       "      <td>2</td>\n",
       "      <td>23</td>\n",
       "      <td>Wednesday</td>\n",
       "      <td>2</td>\n",
       "    </tr>\n",
       "    <tr>\n",
       "      <th>660678</th>\n",
       "      <td>201091NM02142</td>\n",
       "      <td>Serious</td>\n",
       "      <td>2022-02-28</td>\n",
       "      <td>57.575210</td>\n",
       "      <td>Daylight</td>\n",
       "      <td>Highland</td>\n",
       "      <td>-3.895673</td>\n",
       "      <td>1</td>\n",
       "      <td>1</td>\n",
       "      <td>Wet or damp</td>\n",
       "      <td>Dual carriageway</td>\n",
       "      <td>Rural</td>\n",
       "      <td>Snowing no high winds</td>\n",
       "      <td>Car</td>\n",
       "      <td>2022</td>\n",
       "      <td>2</td>\n",
       "      <td>28</td>\n",
       "      <td>Monday</td>\n",
       "      <td>2</td>\n",
       "    </tr>\n",
       "  </tbody>\n",
       "</table>\n",
       "<p>96878 rows × 19 columns</p>\n",
       "</div>"
      ],
      "text/plain": [
       "                Index Accident_Severity Accident Date   Latitude  \\\n",
       "0       200701BS64157           Serious    2019-06-05  51.506187   \n",
       "1       200701BS65737           Serious    2019-07-02  51.495029   \n",
       "2       200701BS66127           Serious    2019-08-26  51.517715   \n",
       "3       200701BS66128           Serious    2019-08-16  51.495478   \n",
       "5       200701BS67159           Serious    2019-09-18  51.497750   \n",
       "...               ...               ...           ...        ...   \n",
       "660629  201091NL00686           Serious    2022-02-11  57.687933   \n",
       "660645  201091NL05842           Serious    2022-10-18  60.162660   \n",
       "660672  201091NM01085           Serious    2022-01-29  57.170725   \n",
       "660677  201091NM01964           Serious    2022-02-23  57.214898   \n",
       "660678  201091NM02142           Serious    2022-02-28  57.575210   \n",
       "\n",
       "                   Light_Conditions           District Area  Longitude  \\\n",
       "0             Darkness - lights lit  Kensington and Chelsea  -0.209082   \n",
       "1                          Daylight  Kensington and Chelsea  -0.173647   \n",
       "2       Darkness - lighting unknown  Kensington and Chelsea  -0.210215   \n",
       "3                          Daylight  Kensington and Chelsea  -0.202731   \n",
       "5                          Daylight  Kensington and Chelsea  -0.192556   \n",
       "...                             ...                     ...        ...   \n",
       "660629                     Daylight        Shetland Islands  -4.176860   \n",
       "660645                     Daylight        Shetland Islands  -1.165232   \n",
       "660672                     Daylight                Highland  -3.852421   \n",
       "660677       Darkness - no lighting                Highland  -3.823997   \n",
       "660678                     Daylight                Highland  -3.895673   \n",
       "\n",
       "        Number_of_Casualties  Number_of_Vehicles Road_Surface_Conditions  \\\n",
       "0                          1                   2                     Dry   \n",
       "1                          1                   2             Wet or damp   \n",
       "2                          1                   3                     Dry   \n",
       "3                          1                   4                     Dry   \n",
       "5                          2                   3                     Dry   \n",
       "...                      ...                 ...                     ...   \n",
       "660629                     1                   2                     Dry   \n",
       "660645                     1                   1                     Dry   \n",
       "660672                     1                   2                    Snow   \n",
       "660677                     1                   2             Wet or damp   \n",
       "660678                     1                   1             Wet or damp   \n",
       "\n",
       "                 Road_Type Urban_or_Rural_Area     Weather_Conditions  \\\n",
       "0       Single carriageway               Urban     Fine no high winds   \n",
       "1       Single carriageway               Urban  Raining no high winds   \n",
       "2       Single Carriageway               Urban                   Fine   \n",
       "3       Single carriageway               Urban     Fine no high winds   \n",
       "5       Single carriageway               Urban     Fine no high winds   \n",
       "...                    ...                 ...                    ...   \n",
       "660629  Single carriageway               Rural      Fine + high winds   \n",
       "660645  Single carriageway               Rural      Fine + high winds   \n",
       "660672  Single carriageway               Rural     Fine no high winds   \n",
       "660677  Single carriageway               Rural     Fine no high winds   \n",
       "660678    Dual carriageway               Rural  Snowing no high winds   \n",
       "\n",
       "                                Vehicle_Type  Year  Month  Day Days of Week  \\\n",
       "0                                        Car  2019      6    5    Wednesday   \n",
       "1                                        Car  2019      7    2      Tuesday   \n",
       "2                      Taxi/Private hire car  2019      8   26       Monday   \n",
       "3       Bus or coach (17 or more pass seats)  2019      8   16       Friday   \n",
       "5                                        Car  2019      9   18    Wednesday   \n",
       "...                                      ...   ...    ...  ...          ...   \n",
       "660629                                   Car  2022      2   11       Friday   \n",
       "660645                                   Car  2022     10   18      Tuesday   \n",
       "660672                                   Car  2022      1   29     Saturday   \n",
       "660677                 Motorcycle over 500cc  2022      2   23    Wednesday   \n",
       "660678                                   Car  2022      2   28       Monday   \n",
       "\n",
       "       Accident_Severity_Num  \n",
       "0                          2  \n",
       "1                          2  \n",
       "2                          2  \n",
       "3                          2  \n",
       "5                          2  \n",
       "...                      ...  \n",
       "660629                     2  \n",
       "660645                     2  \n",
       "660672                     2  \n",
       "660677                     2  \n",
       "660678                     2  \n",
       "\n",
       "[96878 rows x 19 columns]"
      ]
     },
     "execution_count": 31,
     "metadata": {},
     "output_type": "execute_result"
    }
   ],
   "source": [
    "high_severity = car[car['Accident_Severity'].isin(['Serious', 'Fatal'])]\n",
    "high_severity"
   ]
  },
  {
   "cell_type": "code",
   "execution_count": 32,
   "id": "cb01c6b7-9b5e-4470-bb26-f43d51e701b9",
   "metadata": {},
   "outputs": [
    {
     "data": {
      "text/plain": [
       "Vehicle_Type\n",
       "Car                                      73038\n",
       "Van / Goods 3.5 tonnes mgw or under       5021\n",
       "Motorcycle over 500cc                     3796\n",
       "Bus or coach (17 or more pass seats)      3698\n",
       "Goods 7.5 tonnes mgw and over             2537\n",
       "Motorcycle 125cc and under                2220\n",
       "Taxi/Private hire car                     1926\n",
       "Motorcycle over 125cc and up to 500cc     1119\n",
       "Motorcycle 50cc and under                 1109\n",
       "Goods over 3.5t. and under 7.5t            924\n",
       "Other vehicle                              837\n",
       "Minibus (8 - 16 passenger seats)           305\n",
       "Agricultural vehicle                       303\n",
       "Pedal cycle                                 45\n",
       "Data missing or out of range                 0\n",
       "Ridden horse                                 0\n",
       "Name: count, dtype: int64"
      ]
     },
     "execution_count": 32,
     "metadata": {},
     "output_type": "execute_result"
    }
   ],
   "source": [
    "vehicle_counts = high_severity['Vehicle_Type'].value_counts()\n",
    "vehicle_counts"
   ]
  },
  {
   "cell_type": "code",
   "execution_count": 33,
   "id": "e24e7e4b-6e93-47d0-ac9b-86dd20c456b5",
   "metadata": {},
   "outputs": [
    {
     "name": "stdout",
     "output_type": "stream",
     "text": [
      "\n",
      "Most frequently involved vehicle type in high severity accidents: Car (73038 accidents)\n"
     ]
    }
   ],
   "source": [
    "top_vehicle_type = vehicle_counts.idxmax()\n",
    "top_vehicle_count = vehicle_counts.max()\n",
    "\n",
    "print(f\"\\nMost frequently involved vehicle type in high severity accidents: {top_vehicle_type} ({top_vehicle_count} accidents)\")"
   ]
  },
  {
   "cell_type": "markdown",
   "id": "e3f24055-2e8e-4c2c-9029-f3bb6c73a65f",
   "metadata": {},
   "source": [
    "<h2>Insight No. 10</h2>\n",
    "<h4>The result shows that 75.39% of vehicle types are cars, which have the highest percentage of involvement in high severity accident. </h4>\n",
    "<hr>"
   ]
  },
  {
   "cell_type": "markdown",
   "id": "e191fbf2-8907-4ea6-88ce-9851896325a0",
   "metadata": {},
   "source": [
    "<h2>Insight No. 11</h2>\n",
    "<h4>The result shows that all engine types of motorcycles (including over 500cc, 125cc and over, 50cc–125cc, and 50cc and under) are substantial, meaning they are more or less comparable to cars only. </h4>\n",
    "<hr>"
   ]
  },
  {
   "cell_type": "markdown",
   "id": "181ef20c-947b-41ec-91b9-680353c17eef",
   "metadata": {},
   "source": [
    "<h3>10. What is the average number of casualties per Urban_or_Rural_Area?</h3>"
   ]
  },
  {
   "cell_type": "code",
   "execution_count": 34,
   "id": "220b3d4f-6d29-4d21-aafc-463b4d75cf3a",
   "metadata": {},
   "outputs": [
    {
     "data": {
      "text/plain": [
       "Urban_or_Rural_Area\n",
       "Rural          1.479204\n",
       "Unallocated    1.181818\n",
       "Urban          1.287807\n",
       "Name: Number_of_Casualties, dtype: float64"
      ]
     },
     "execution_count": 34,
     "metadata": {},
     "output_type": "execute_result"
    }
   ],
   "source": [
    "avg_casualties_per_area = car.groupby('Urban_or_Rural_Area')['Number_of_Casualties'].mean()\n",
    "avg_casualties_per_area"
   ]
  },
  {
   "cell_type": "markdown",
   "id": "98198931-ed33-434c-b68e-8273eda7fadd",
   "metadata": {},
   "source": [
    "<h2>Insight No. 12</h2>\n",
    "<h4>As you can see, the average casualties in Rural is 1.479204 more higher than Urban and in Unallocated </h4>\n",
    "<hr>"
   ]
  },
  {
   "cell_type": "markdown",
   "id": "b5744f96-f647-4e17-a87a-83e030c5d07c",
   "metadata": {},
   "source": [
    "<h3>11. Which month has the highest number of accidents?</h3>"
   ]
  },
  {
   "cell_type": "code",
   "execution_count": 35,
   "id": "f4b9fe2f-1606-4ecd-b42c-f6e1fcb2721d",
   "metadata": {},
   "outputs": [],
   "source": [
    "accidents_by_month = car['Month'].value_counts()"
   ]
  },
  {
   "cell_type": "code",
   "execution_count": 36,
   "id": "a96d80fd-09f6-4a60-9b31-ef7e537d910e",
   "metadata": {},
   "outputs": [
    {
     "name": "stdout",
     "output_type": "stream",
     "text": [
      "Month with highest number of accidents: 11 (60424 accidents)\n"
     ]
    }
   ],
   "source": [
    "highest_month = accidents_by_month.idxmax()\n",
    "highest_value = accidents_by_month.max()\n",
    "print(f\"Month with highest number of accidents: {highest_month} ({highest_value} accidents)\")"
   ]
  },
  {
   "cell_type": "markdown",
   "id": "7634ecb5-9f74-43a6-9d88-dd3cc88329f5",
   "metadata": {},
   "source": [
    "<h2>Insight No. 13</h2>\n",
    "<h4>The result shows that the month with the highest number of accidents is November with 60424 accidents. </h4>\n",
    "<hr>"
   ]
  },
  {
   "cell_type": "markdown",
   "id": "320ce0d1-d357-4846-a738-ec0da291ddb6",
   "metadata": {},
   "source": [
    "<h3>12. Which weather condition has the most common fatal accidents?</h3>"
   ]
  },
  {
   "cell_type": "code",
   "execution_count": 37,
   "id": "31c304b4-9dc1-449e-a9cd-5d7ca7baa2be",
   "metadata": {},
   "outputs": [],
   "source": [
    "fatal_accidents = car[car['Accident_Severity'] == 'Fatal']"
   ]
  },
  {
   "cell_type": "code",
   "execution_count": 38,
   "id": "0fed6976-dd71-4d03-bb3b-99d5db5a80b0",
   "metadata": {
    "scrolled": true
   },
   "outputs": [
    {
     "data": {
      "text/html": [
       "<div>\n",
       "<style scoped>\n",
       "    .dataframe tbody tr th:only-of-type {\n",
       "        vertical-align: middle;\n",
       "    }\n",
       "\n",
       "    .dataframe tbody tr th {\n",
       "        vertical-align: top;\n",
       "    }\n",
       "\n",
       "    .dataframe thead th {\n",
       "        text-align: right;\n",
       "    }\n",
       "</style>\n",
       "<table border=\"1\" class=\"dataframe\">\n",
       "  <thead>\n",
       "    <tr style=\"text-align: right;\">\n",
       "      <th></th>\n",
       "      <th>Index</th>\n",
       "      <th>Accident_Severity</th>\n",
       "      <th>Accident Date</th>\n",
       "      <th>Latitude</th>\n",
       "      <th>Light_Conditions</th>\n",
       "      <th>District Area</th>\n",
       "      <th>Longitude</th>\n",
       "      <th>Number_of_Casualties</th>\n",
       "      <th>Number_of_Vehicles</th>\n",
       "      <th>Road_Surface_Conditions</th>\n",
       "      <th>Road_Type</th>\n",
       "      <th>Urban_or_Rural_Area</th>\n",
       "      <th>Weather_Conditions</th>\n",
       "      <th>Vehicle_Type</th>\n",
       "      <th>Year</th>\n",
       "      <th>Month</th>\n",
       "      <th>Day</th>\n",
       "      <th>Days of Week</th>\n",
       "      <th>Accident_Severity_Num</th>\n",
       "    </tr>\n",
       "  </thead>\n",
       "  <tbody>\n",
       "    <tr>\n",
       "      <th>7</th>\n",
       "      <td>200701BS67370</td>\n",
       "      <td>Fatal</td>\n",
       "      <td>2019-10-03</td>\n",
       "      <td>51.482260</td>\n",
       "      <td>Darkness - lights lit</td>\n",
       "      <td>Kensington and Chelsea</td>\n",
       "      <td>-0.179486</td>\n",
       "      <td>3</td>\n",
       "      <td>2</td>\n",
       "      <td>Dry</td>\n",
       "      <td>Single carriageway</td>\n",
       "      <td>Urban</td>\n",
       "      <td>Fine no high winds</td>\n",
       "      <td>Car</td>\n",
       "      <td>2019</td>\n",
       "      <td>10</td>\n",
       "      <td>3</td>\n",
       "      <td>Thursday</td>\n",
       "      <td>3</td>\n",
       "    </tr>\n",
       "    <tr>\n",
       "      <th>11</th>\n",
       "      <td>200701BS67747</td>\n",
       "      <td>Fatal</td>\n",
       "      <td>2019-11-02</td>\n",
       "      <td>51.499127</td>\n",
       "      <td>Daylight</td>\n",
       "      <td>Kensington and Chelsea</td>\n",
       "      <td>-0.159652</td>\n",
       "      <td>1</td>\n",
       "      <td>2</td>\n",
       "      <td>Dry</td>\n",
       "      <td>Single carriageway</td>\n",
       "      <td>Urban</td>\n",
       "      <td>Fine no high winds</td>\n",
       "      <td>Bus or coach (17 or more pass seats)</td>\n",
       "      <td>2019</td>\n",
       "      <td>11</td>\n",
       "      <td>2</td>\n",
       "      <td>Saturday</td>\n",
       "      <td>3</td>\n",
       "    </tr>\n",
       "    <tr>\n",
       "      <th>20</th>\n",
       "      <td>200701BS68301</td>\n",
       "      <td>Fatal</td>\n",
       "      <td>2019-10-24</td>\n",
       "      <td>51.505996</td>\n",
       "      <td>Daylight</td>\n",
       "      <td>Kensington and Chelsea</td>\n",
       "      <td>-0.214277</td>\n",
       "      <td>1</td>\n",
       "      <td>1</td>\n",
       "      <td>Dry</td>\n",
       "      <td>Single carriageway</td>\n",
       "      <td>Urban</td>\n",
       "      <td>Fine no high winds</td>\n",
       "      <td>Car</td>\n",
       "      <td>2019</td>\n",
       "      <td>10</td>\n",
       "      <td>24</td>\n",
       "      <td>Thursday</td>\n",
       "      <td>3</td>\n",
       "    </tr>\n",
       "    <tr>\n",
       "      <th>21</th>\n",
       "      <td>200701BS68302</td>\n",
       "      <td>Fatal</td>\n",
       "      <td>2019-11-24</td>\n",
       "      <td>51.486795</td>\n",
       "      <td>Daylight</td>\n",
       "      <td>Kensington and Chelsea</td>\n",
       "      <td>-0.170375</td>\n",
       "      <td>5</td>\n",
       "      <td>1</td>\n",
       "      <td>Dry</td>\n",
       "      <td>Single carriageway</td>\n",
       "      <td>Urban</td>\n",
       "      <td>Fine no high winds</td>\n",
       "      <td>Car</td>\n",
       "      <td>2019</td>\n",
       "      <td>11</td>\n",
       "      <td>24</td>\n",
       "      <td>Sunday</td>\n",
       "      <td>3</td>\n",
       "    </tr>\n",
       "    <tr>\n",
       "      <th>717</th>\n",
       "      <td>200701CP00032</td>\n",
       "      <td>Fatal</td>\n",
       "      <td>2019-01-30</td>\n",
       "      <td>51.510978</td>\n",
       "      <td>Daylight</td>\n",
       "      <td>City of London</td>\n",
       "      <td>-0.107581</td>\n",
       "      <td>1</td>\n",
       "      <td>2</td>\n",
       "      <td>Wet or damp</td>\n",
       "      <td>Dual carriageway</td>\n",
       "      <td>Urban</td>\n",
       "      <td>Fine no high winds</td>\n",
       "      <td>Car</td>\n",
       "      <td>2019</td>\n",
       "      <td>1</td>\n",
       "      <td>30</td>\n",
       "      <td>Wednesday</td>\n",
       "      <td>3</td>\n",
       "    </tr>\n",
       "    <tr>\n",
       "      <th>...</th>\n",
       "      <td>...</td>\n",
       "      <td>...</td>\n",
       "      <td>...</td>\n",
       "      <td>...</td>\n",
       "      <td>...</td>\n",
       "      <td>...</td>\n",
       "      <td>...</td>\n",
       "      <td>...</td>\n",
       "      <td>...</td>\n",
       "      <td>...</td>\n",
       "      <td>...</td>\n",
       "      <td>...</td>\n",
       "      <td>...</td>\n",
       "      <td>...</td>\n",
       "      <td>...</td>\n",
       "      <td>...</td>\n",
       "      <td>...</td>\n",
       "      <td>...</td>\n",
       "      <td>...</td>\n",
       "    </tr>\n",
       "    <tr>\n",
       "      <th>660470</th>\n",
       "      <td>201091NH00529</td>\n",
       "      <td>Fatal</td>\n",
       "      <td>2022-01-29</td>\n",
       "      <td>58.475726</td>\n",
       "      <td>Daylight</td>\n",
       "      <td>Western Isles</td>\n",
       "      <td>-6.278583</td>\n",
       "      <td>1</td>\n",
       "      <td>1</td>\n",
       "      <td>Wet or damp</td>\n",
       "      <td>Single carriageway</td>\n",
       "      <td>Rural</td>\n",
       "      <td>Fine + high winds</td>\n",
       "      <td>Car</td>\n",
       "      <td>2022</td>\n",
       "      <td>1</td>\n",
       "      <td>29</td>\n",
       "      <td>Saturday</td>\n",
       "      <td>3</td>\n",
       "    </tr>\n",
       "    <tr>\n",
       "      <th>660519</th>\n",
       "      <td>201091NJ01533</td>\n",
       "      <td>Fatal</td>\n",
       "      <td>2022-02-02</td>\n",
       "      <td>58.495554</td>\n",
       "      <td>Daylight</td>\n",
       "      <td>Highland</td>\n",
       "      <td>-4.451628</td>\n",
       "      <td>1</td>\n",
       "      <td>1</td>\n",
       "      <td>Snow</td>\n",
       "      <td>Single carriageway</td>\n",
       "      <td>Rural</td>\n",
       "      <td>Snowing no high winds</td>\n",
       "      <td>Car</td>\n",
       "      <td>2022</td>\n",
       "      <td>2</td>\n",
       "      <td>2</td>\n",
       "      <td>Wednesday</td>\n",
       "      <td>3</td>\n",
       "    </tr>\n",
       "    <tr>\n",
       "      <th>660565</th>\n",
       "      <td>201091NJ11329</td>\n",
       "      <td>Fatal</td>\n",
       "      <td>2022-08-15</td>\n",
       "      <td>57.871514</td>\n",
       "      <td>Daylight</td>\n",
       "      <td>Highland</td>\n",
       "      <td>-4.243081</td>\n",
       "      <td>1</td>\n",
       "      <td>1</td>\n",
       "      <td>Dry</td>\n",
       "      <td>Single carriageway</td>\n",
       "      <td>Rural</td>\n",
       "      <td>Fine no high winds</td>\n",
       "      <td>Goods 7.5 tonnes mgw and over</td>\n",
       "      <td>2022</td>\n",
       "      <td>8</td>\n",
       "      <td>15</td>\n",
       "      <td>Monday</td>\n",
       "      <td>3</td>\n",
       "    </tr>\n",
       "    <tr>\n",
       "      <th>660581</th>\n",
       "      <td>201091NJ14695</td>\n",
       "      <td>Fatal</td>\n",
       "      <td>2022-10-21</td>\n",
       "      <td>58.445475</td>\n",
       "      <td>Darkness - lights lit</td>\n",
       "      <td>Highland</td>\n",
       "      <td>-3.065535</td>\n",
       "      <td>1</td>\n",
       "      <td>1</td>\n",
       "      <td>Wet or damp</td>\n",
       "      <td>Single carriageway</td>\n",
       "      <td>Rural</td>\n",
       "      <td>Fine no high winds</td>\n",
       "      <td>Car</td>\n",
       "      <td>2022</td>\n",
       "      <td>10</td>\n",
       "      <td>21</td>\n",
       "      <td>Friday</td>\n",
       "      <td>3</td>\n",
       "    </tr>\n",
       "    <tr>\n",
       "      <th>660627</th>\n",
       "      <td>201091NL00060</td>\n",
       "      <td>Fatal</td>\n",
       "      <td>2022-01-06</td>\n",
       "      <td>60.241195</td>\n",
       "      <td>Daylight</td>\n",
       "      <td>Shetland Islands</td>\n",
       "      <td>-1.409761</td>\n",
       "      <td>3</td>\n",
       "      <td>1</td>\n",
       "      <td>Snow</td>\n",
       "      <td>Single carriageway</td>\n",
       "      <td>Rural</td>\n",
       "      <td>Fine no high winds</td>\n",
       "      <td>Van / Goods 3.5 tonnes mgw or under</td>\n",
       "      <td>2022</td>\n",
       "      <td>1</td>\n",
       "      <td>6</td>\n",
       "      <td>Thursday</td>\n",
       "      <td>3</td>\n",
       "    </tr>\n",
       "  </tbody>\n",
       "</table>\n",
       "<p>8661 rows × 19 columns</p>\n",
       "</div>"
      ],
      "text/plain": [
       "                Index Accident_Severity Accident Date   Latitude  \\\n",
       "7       200701BS67370             Fatal    2019-10-03  51.482260   \n",
       "11      200701BS67747             Fatal    2019-11-02  51.499127   \n",
       "20      200701BS68301             Fatal    2019-10-24  51.505996   \n",
       "21      200701BS68302             Fatal    2019-11-24  51.486795   \n",
       "717     200701CP00032             Fatal    2019-01-30  51.510978   \n",
       "...               ...               ...           ...        ...   \n",
       "660470  201091NH00529             Fatal    2022-01-29  58.475726   \n",
       "660519  201091NJ01533             Fatal    2022-02-02  58.495554   \n",
       "660565  201091NJ11329             Fatal    2022-08-15  57.871514   \n",
       "660581  201091NJ14695             Fatal    2022-10-21  58.445475   \n",
       "660627  201091NL00060             Fatal    2022-01-06  60.241195   \n",
       "\n",
       "             Light_Conditions           District Area  Longitude  \\\n",
       "7       Darkness - lights lit  Kensington and Chelsea  -0.179486   \n",
       "11                   Daylight  Kensington and Chelsea  -0.159652   \n",
       "20                   Daylight  Kensington and Chelsea  -0.214277   \n",
       "21                   Daylight  Kensington and Chelsea  -0.170375   \n",
       "717                  Daylight          City of London  -0.107581   \n",
       "...                       ...                     ...        ...   \n",
       "660470               Daylight           Western Isles  -6.278583   \n",
       "660519               Daylight                Highland  -4.451628   \n",
       "660565               Daylight                Highland  -4.243081   \n",
       "660581  Darkness - lights lit                Highland  -3.065535   \n",
       "660627               Daylight        Shetland Islands  -1.409761   \n",
       "\n",
       "        Number_of_Casualties  Number_of_Vehicles Road_Surface_Conditions  \\\n",
       "7                          3                   2                     Dry   \n",
       "11                         1                   2                     Dry   \n",
       "20                         1                   1                     Dry   \n",
       "21                         5                   1                     Dry   \n",
       "717                        1                   2             Wet or damp   \n",
       "...                      ...                 ...                     ...   \n",
       "660470                     1                   1             Wet or damp   \n",
       "660519                     1                   1                    Snow   \n",
       "660565                     1                   1                     Dry   \n",
       "660581                     1                   1             Wet or damp   \n",
       "660627                     3                   1                    Snow   \n",
       "\n",
       "                 Road_Type Urban_or_Rural_Area     Weather_Conditions  \\\n",
       "7       Single carriageway               Urban     Fine no high winds   \n",
       "11      Single carriageway               Urban     Fine no high winds   \n",
       "20      Single carriageway               Urban     Fine no high winds   \n",
       "21      Single carriageway               Urban     Fine no high winds   \n",
       "717       Dual carriageway               Urban     Fine no high winds   \n",
       "...                    ...                 ...                    ...   \n",
       "660470  Single carriageway               Rural      Fine + high winds   \n",
       "660519  Single carriageway               Rural  Snowing no high winds   \n",
       "660565  Single carriageway               Rural     Fine no high winds   \n",
       "660581  Single carriageway               Rural     Fine no high winds   \n",
       "660627  Single carriageway               Rural     Fine no high winds   \n",
       "\n",
       "                                Vehicle_Type  Year  Month  Day Days of Week  \\\n",
       "7                                        Car  2019     10    3     Thursday   \n",
       "11      Bus or coach (17 or more pass seats)  2019     11    2     Saturday   \n",
       "20                                       Car  2019     10   24     Thursday   \n",
       "21                                       Car  2019     11   24       Sunday   \n",
       "717                                      Car  2019      1   30    Wednesday   \n",
       "...                                      ...   ...    ...  ...          ...   \n",
       "660470                                   Car  2022      1   29     Saturday   \n",
       "660519                                   Car  2022      2    2    Wednesday   \n",
       "660565         Goods 7.5 tonnes mgw and over  2022      8   15       Monday   \n",
       "660581                                   Car  2022     10   21       Friday   \n",
       "660627   Van / Goods 3.5 tonnes mgw or under  2022      1    6     Thursday   \n",
       "\n",
       "       Accident_Severity_Num  \n",
       "7                          3  \n",
       "11                         3  \n",
       "20                         3  \n",
       "21                         3  \n",
       "717                        3  \n",
       "...                      ...  \n",
       "660470                     3  \n",
       "660519                     3  \n",
       "660565                     3  \n",
       "660581                     3  \n",
       "660627                     3  \n",
       "\n",
       "[8661 rows x 19 columns]"
      ]
     },
     "execution_count": 38,
     "metadata": {},
     "output_type": "execute_result"
    }
   ],
   "source": [
    "fatal_accidents"
   ]
  },
  {
   "cell_type": "code",
   "execution_count": 39,
   "id": "0e34615a-d7e3-4e16-b742-3961cd0655a9",
   "metadata": {},
   "outputs": [],
   "source": [
    "fatal_weather_counts = fatal_accidents['Weather_Conditions'].value_counts()"
   ]
  },
  {
   "cell_type": "code",
   "execution_count": 40,
   "id": "b6880ee4-bc6b-41ac-9931-40e3815b4868",
   "metadata": {},
   "outputs": [
    {
     "name": "stdout",
     "output_type": "stream",
     "text": [
      "The most common Weather_Condition for fatal accidents is 'Fine no high winds' (7100 accidents).\n"
     ]
    }
   ],
   "source": [
    "most_common_weather = fatal_weather_counts.idxmax()\n",
    "most_common_count = fatal_weather_counts.max()\n",
    "\n",
    "print(f\"The most common Weather_Condition for fatal accidents is '{most_common_weather}' \"\n",
    "      f\"({most_common_count} accidents).\")"
   ]
  },
  {
   "cell_type": "markdown",
   "id": "279b97e2-d1c4-4428-bcfd-ccf615abe8da",
   "metadata": {},
   "source": [
    "<h2>Insight No. 14</h2>\n",
    "<h3>The weather condition with the most fatal accident is Fine no High Winds with 7100 accidents.</h3>"
   ]
  },
  {
   "cell_type": "markdown",
   "id": "d00ad0c2-161d-41b6-824e-51457e993125",
   "metadata": {},
   "source": [
    "<h3>13. What is the most common Day_of_Week for accidents?</h3>"
   ]
  },
  {
   "cell_type": "code",
   "execution_count": 41,
   "id": "a017ad9b-d96e-48cc-a577-3b8efd0a68d6",
   "metadata": {},
   "outputs": [
    {
     "name": "stdout",
     "output_type": "stream",
     "text": [
      "The most common Days of Week for accidents is Saturday (107178 accidents).\n"
     ]
    }
   ],
   "source": [
    "most_common_day = car['Days of Week'].value_counts().idxmax()\n",
    "count = car['Days of Week'].value_counts().max()\n",
    "\n",
    "print(f\"The most common Days of Week for accidents is {most_common_day} ({count} accidents).\")"
   ]
  },
  {
   "cell_type": "markdown",
   "id": "2fead7f1-281a-40be-8b2f-b602ca7598a7",
   "metadata": {},
   "source": [
    "<h2>Insight No. 15</h2>\n",
    "<h3>The days of the week with the most accident is Saturday. Maybe, because it is weekends and many people usually have a free time to go somewehere.</h3>\n",
    "<hr>"
   ]
  },
  {
   "cell_type": "markdown",
   "id": "64ed9278-f76b-409d-934f-5471dd517033",
   "metadata": {},
   "source": [
    "<h3>14. What is the total number of accident in the dataset?</h3>"
   ]
  },
  {
   "cell_type": "code",
   "execution_count": 42,
   "id": "346757aa-de62-488b-8f5b-94db1ec84a91",
   "metadata": {},
   "outputs": [
    {
     "name": "stdout",
     "output_type": "stream",
     "text": [
      "Total number of accidents recorded in the dataset: 660679\n"
     ]
    }
   ],
   "source": [
    "total_accidents = len(car)\n",
    "\n",
    "print(f\"Total number of accidents recorded in the dataset: {total_accidents}\")"
   ]
  },
  {
   "cell_type": "markdown",
   "id": "cf835c50-415a-48d8-b78e-879407465b1b",
   "metadata": {},
   "source": [
    "<h2>Insight No. 16</h2>\n",
    "<h3>In our dataset, we have a total of 660679 total accidents.</h3>\n",
    "<hr>"
   ]
  },
  {
   "cell_type": "markdown",
   "id": "3b84bad6-86fb-4875-96af-ae5d01e07e37",
   "metadata": {},
   "source": [
    "<h3>15. How many accidents occurred in Urban vs Rural areas?</h3>"
   ]
  },
  {
   "cell_type": "code",
   "execution_count": 43,
   "id": "45d70b5d-8806-48d0-850d-9c98beb45979",
   "metadata": {},
   "outputs": [],
   "source": [
    "accidents_by_area = car['Urban_or_Rural_Area'].value_counts()\n"
   ]
  },
  {
   "cell_type": "code",
   "execution_count": 44,
   "id": "3159efa9-a826-419c-83c3-7a401ed4ec06",
   "metadata": {},
   "outputs": [
    {
     "data": {
      "text/plain": [
       "Urban_or_Rural_Area\n",
       "Urban          421678\n",
       "Rural          238990\n",
       "Unallocated        11\n",
       "Name: count, dtype: int64"
      ]
     },
     "execution_count": 44,
     "metadata": {},
     "output_type": "execute_result"
    }
   ],
   "source": [
    "accidents_by_area"
   ]
  },
  {
   "cell_type": "markdown",
   "id": "5f992cbd-77a7-4f85-a6e9-ffafc87a15af",
   "metadata": {},
   "source": [
    "<h2>Insight No. 17</h2>\n",
    "<h3>The result shows that most of accident happened in Urban with the total of 421678 accidents</h3>\n",
    "<hr>"
   ]
  },
  {
   "cell_type": "markdown",
   "id": "0be56a31-098e-4fb0-99f2-c3030ac68790",
   "metadata": {},
   "source": [
    "<h2>Insight No. 18</h2>\n",
    "<h3>On the other hand, Rural area has 238990 or 36.1734 % of the total accidents.</h3>\n",
    "<hr>"
   ]
  },
  {
   "cell_type": "markdown",
   "id": "ede7faf2-21e9-4b89-af72-94a3043a2b60",
   "metadata": {},
   "source": [
    "<h2>16. What is the distribution of Accident_Severity (fatal, serious, slight)?</h2>"
   ]
  },
  {
   "cell_type": "code",
   "execution_count": 45,
   "id": "2405329f-38f7-4076-ba91-91482e5d50e4",
   "metadata": {},
   "outputs": [],
   "source": [
    "severity_counts = car['Accident_Severity'].value_counts()"
   ]
  },
  {
   "cell_type": "code",
   "execution_count": 46,
   "id": "c6f87aec-d167-4b74-8976-d71ee5cc4242",
   "metadata": {},
   "outputs": [
    {
     "data": {
      "text/plain": [
       "Accident_Severity\n",
       "Slight     563801\n",
       "Serious     88217\n",
       "Fatal        8661\n",
       "Name: count, dtype: int64"
      ]
     },
     "execution_count": 46,
     "metadata": {},
     "output_type": "execute_result"
    }
   ],
   "source": [
    "severity_counts"
   ]
  },
  {
   "cell_type": "markdown",
   "id": "e4da9e43-e05e-4ea5-acca-29da5cd24d7e",
   "metadata": {},
   "source": [
    "<h2>Insight No. 19</h2>\n",
    "<h3>The most accident severity in our dataset is Slight with 563801 or 85.32 % of total accidents. </h3>\n",
    "<hr></hr>"
   ]
  },
  {
   "cell_type": "markdown",
   "id": "a360d1e9-cdf5-4e5f-b7fa-6681c52a7821",
   "metadata": {},
   "source": [
    "<h2>Insight No. 20</h2>\n",
    "<h3>The result shows that deadly of fatal accidents has the small chance compared to Slight and Serious accidents.</h3>\n",
    "<hr></hr>"
   ]
  },
  {
   "cell_type": "markdown",
   "id": "3e1ee627-6fb3-4d9c-97cb-c64ec553f8cd",
   "metadata": {},
   "source": [
    "<h3>17. Which month has the highest number of accidents involving motorcycles?</h3>"
   ]
  },
  {
   "cell_type": "code",
   "execution_count": 47,
   "id": "35b55276-9afc-42e6-aa17-b784a7a5debf",
   "metadata": {},
   "outputs": [],
   "source": [
    "motorcycle_accidents = car[car['Vehicle_Type'].str.contains('Motorcycle', case=False, na=False)]"
   ]
  },
  {
   "cell_type": "code",
   "execution_count": 48,
   "id": "1c0f3a44-41ef-4c33-ab81-4c7ae5e1d46f",
   "metadata": {},
   "outputs": [],
   "source": [
    "motorcycle_by_month = motorcycle_accidents['Month'].value_counts()"
   ]
  },
  {
   "cell_type": "code",
   "execution_count": 49,
   "id": "e96c0fbd-cc50-48b6-87e6-16fa02a9080d",
   "metadata": {},
   "outputs": [],
   "source": [
    "highest_month = motorcycle_by_month.idxmax()\n",
    "highest_value = motorcycle_by_month.max()"
   ]
  },
  {
   "cell_type": "code",
   "execution_count": 50,
   "id": "99120a34-3508-47d8-8c8e-a0ea43a11541",
   "metadata": {},
   "outputs": [
    {
     "name": "stdout",
     "output_type": "stream",
     "text": [
      "The month with the highest number of motorcycle accidents is: 10 (5134 accidents)\n"
     ]
    }
   ],
   "source": [
    "print(f\"The month with the highest number of motorcycle accidents is: {highest_month} ({highest_value} accidents)\")"
   ]
  },
  {
   "cell_type": "markdown",
   "id": "aad7dd4d-6593-4b6a-ba68-8fe0b2e27421",
   "metadata": {},
   "source": [
    "<h2>Insight No. 21</h2>\n",
    "<h3>October has the highest number of motorcylce accident with 5134 accidents.</h3>\n",
    "<hr></hr>"
   ]
  },
  {
   "cell_type": "markdown",
   "id": "ee2dd1ae-ba1d-4195-ab6b-0f36eeebcee3",
   "metadata": {},
   "source": [
    "<h3>17. What district are has the highest amount of fatality?</h3>"
   ]
  },
  {
   "cell_type": "code",
   "execution_count": 51,
   "id": "8e15c0ac-eb5c-4039-9a3c-69940271a12e",
   "metadata": {},
   "outputs": [],
   "source": [
    "fatal_by_district = (car[car['Accident_Severity'] == 'Fatal']\n",
    "    .groupby('District Area')\n",
    "    .size()\n",
    "    .sort_values(ascending=False)\n",
    ")\n"
   ]
  },
  {
   "cell_type": "code",
   "execution_count": 52,
   "id": "09a236fb-7760-4136-8427-3689695a40c4",
   "metadata": {},
   "outputs": [
    {
     "data": {
      "text/plain": [
       "District Area\n",
       "Birmingham                  105\n",
       "Leeds                        93\n",
       "Highland                     88\n",
       "East Riding of Yorkshire     85\n",
       "Bradford                     71\n",
       "                           ... \n",
       "Orkney Islands                2\n",
       "Havant                        2\n",
       "Stevenage                     1\n",
       "Clackmannanshire              1\n",
       "Harlow                        1\n",
       "Length: 422, dtype: int64"
      ]
     },
     "execution_count": 52,
     "metadata": {},
     "output_type": "execute_result"
    }
   ],
   "source": [
    "fatal_by_district"
   ]
  },
  {
   "cell_type": "markdown",
   "id": "eb9fa68a-4113-4d3e-9295-d097b2ae3001",
   "metadata": {},
   "source": [
    "<h2>Insight No. 22</h2>\n",
    "<h3>The result shows that the district with the highest amount of fatal severity is Birmingham. On the other hand, Havant, Clackmannanshire and Harlow are the district with the lowest fatality with only 1.  </h3>\n",
    "<hr></hr>"
   ]
  },
  {
   "cell_type": "markdown",
   "id": "3cb46ea8-f3d6-4801-917f-614ff989f1ad",
   "metadata": {},
   "source": [
    "<h3>18. What year has the highest amount of accident?</h3>"
   ]
  },
  {
   "cell_type": "code",
   "execution_count": 53,
   "id": "dda1fd4a-00a8-45e3-84f6-24cdde9d0452",
   "metadata": {},
   "outputs": [],
   "source": [
    "accidents_per_year = car.groupby('Year').size()"
   ]
  },
  {
   "cell_type": "code",
   "execution_count": 54,
   "id": "f4055952-07ee-4122-8224-f56c4b4a18cf",
   "metadata": {},
   "outputs": [
    {
     "data": {
      "image/png": "[encoded data removed]",
      "text/plain": [
       "<Figure size 1000x600 with 1 Axes>"
      ]
     },
     "metadata": {},
     "output_type": "display_data"
    }
   ],
   "source": [
    "plt.figure(figsize=(10,6))\n",
    "plt.plot(accidents_per_year.index, accidents_per_year.values, marker='o', linestyle='-')\n",
    "\n",
    "plt.title('Number of Accidents per Year')\n",
    "plt.xlabel('Year')\n",
    "plt.ylabel('Number of Accidents')\n",
    "plt.grid(True)\n",
    "plt.tight_layout()\n",
    "plt.show()"
   ]
  },
  {
   "cell_type": "markdown",
   "id": "a5e40b2e-8062-4e3e-b778-0b612dd20216",
   "metadata": {},
   "source": [
    "<h2>Insight No. 23</h2>\n",
    "<h3>The result shows the declined amount of accident every year start from 2019 it shows slowly declined in every year. </h3>\n",
    "<hr></hr>"
   ]
  },
  {
   "cell_type": "markdown",
   "id": "40273fd0-2fbd-4a94-b43b-ca661b4133b0",
   "metadata": {},
   "source": [
    "<h3> 19. Show the Fatal Accident in every year.</h3>"
   ]
  },
  {
   "cell_type": "code",
   "execution_count": 55,
   "id": "5e2ba5e5-20d1-45f7-9241-19ede6e5a74f",
   "metadata": {},
   "outputs": [],
   "source": [
    "fatal_accidents = car[car['Accident_Severity'] == 'Fatal']"
   ]
  },
  {
   "cell_type": "code",
   "execution_count": 56,
   "id": "a4eda554-e77e-4d9f-9fd7-5d63fd1cc5c9",
   "metadata": {},
   "outputs": [],
   "source": [
    "fatal_per_year = fatal_accidents.groupby('Year').size()"
   ]
  },
  {
   "cell_type": "code",
   "execution_count": 57,
   "id": "9cfbf0f6-2f67-4221-9fb1-b7b8bcafdfa1",
   "metadata": {},
   "outputs": [
    {
     "data": {
      "text/plain": [
       "Year\n",
       "2019    2714\n",
       "2020    2341\n",
       "2021    2057\n",
       "2022    1549\n",
       "dtype: int64"
      ]
     },
     "execution_count": 57,
     "metadata": {},
     "output_type": "execute_result"
    }
   ],
   "source": [
    "fatal_per_year"
   ]
  },
  {
   "cell_type": "code",
   "execution_count": 58,
   "id": "5993dd32-fc83-45e1-9d64-7e92bae613c2",
   "metadata": {},
   "outputs": [
    {
     "data": {
      "image/png": "[encoded data removed]",
      "text/plain": [
       "<Figure size 1000x600 with 1 Axes>"
      ]
     },
     "metadata": {},
     "output_type": "display_data"
    }
   ],
   "source": [
    "plt.figure(figsize=(10,6))\n",
    "plt.plot(fatal_per_year.index, fatal_per_year.values, marker='o', color='red', linestyle='-')\n",
    "\n",
    "plt.title('Number of Fatal Accidents per Year')\n",
    "plt.xlabel('Year')\n",
    "plt.ylabel('Fatal Accidents')\n",
    "plt.grid(True)\n",
    "plt.tight_layout()\n",
    "plt.show()"
   ]
  },
  {
   "cell_type": "markdown",
   "id": "674e7741-2cca-4a85-9631-247b8dd0082f",
   "metadata": {},
   "source": [
    "<h2>Insight No. 24</h2>\n",
    "<h3>The result shows that, also 2019 has the highest fatal accident, but it slowly going down in every year until 2022 </h3>\n",
    "<hr></hr>"
   ]
  },
  {
   "cell_type": "code",
   "execution_count": 59,
   "id": "f07466b2-98f9-4b38-afb5-6980c5be6307",
   "metadata": {},
   "outputs": [
    {
     "data": {
      "text/html": [
       "<div>\n",
       "<style scoped>\n",
       "    .dataframe tbody tr th:only-of-type {\n",
       "        vertical-align: middle;\n",
       "    }\n",
       "\n",
       "    .dataframe tbody tr th {\n",
       "        vertical-align: top;\n",
       "    }\n",
       "\n",
       "    .dataframe thead th {\n",
       "        text-align: right;\n",
       "    }\n",
       "</style>\n",
       "<table border=\"1\" class=\"dataframe\">\n",
       "  <thead>\n",
       "    <tr style=\"text-align: right;\">\n",
       "      <th></th>\n",
       "      <th>Index</th>\n",
       "      <th>Accident_Severity</th>\n",
       "      <th>Accident Date</th>\n",
       "      <th>Latitude</th>\n",
       "      <th>Light_Conditions</th>\n",
       "      <th>District Area</th>\n",
       "      <th>Longitude</th>\n",
       "      <th>Number_of_Casualties</th>\n",
       "      <th>Number_of_Vehicles</th>\n",
       "      <th>Road_Surface_Conditions</th>\n",
       "      <th>Road_Type</th>\n",
       "      <th>Urban_or_Rural_Area</th>\n",
       "      <th>Weather_Conditions</th>\n",
       "      <th>Vehicle_Type</th>\n",
       "      <th>Year</th>\n",
       "      <th>Month</th>\n",
       "      <th>Day</th>\n",
       "      <th>Days of Week</th>\n",
       "      <th>Accident_Severity_Num</th>\n",
       "    </tr>\n",
       "  </thead>\n",
       "  <tbody>\n",
       "    <tr>\n",
       "      <th>0</th>\n",
       "      <td>200701BS64157</td>\n",
       "      <td>Serious</td>\n",
       "      <td>2019-06-05</td>\n",
       "      <td>51.506187</td>\n",
       "      <td>Darkness - lights lit</td>\n",
       "      <td>Kensington and Chelsea</td>\n",
       "      <td>-0.209082</td>\n",
       "      <td>1</td>\n",
       "      <td>2</td>\n",
       "      <td>Dry</td>\n",
       "      <td>Single carriageway</td>\n",
       "      <td>Urban</td>\n",
       "      <td>Fine no high winds</td>\n",
       "      <td>Car</td>\n",
       "      <td>2019</td>\n",
       "      <td>6</td>\n",
       "      <td>5</td>\n",
       "      <td>Wednesday</td>\n",
       "      <td>2</td>\n",
       "    </tr>\n",
       "    <tr>\n",
       "      <th>1</th>\n",
       "      <td>200701BS65737</td>\n",
       "      <td>Serious</td>\n",
       "      <td>2019-07-02</td>\n",
       "      <td>51.495029</td>\n",
       "      <td>Daylight</td>\n",
       "      <td>Kensington and Chelsea</td>\n",
       "      <td>-0.173647</td>\n",
       "      <td>1</td>\n",
       "      <td>2</td>\n",
       "      <td>Wet or damp</td>\n",
       "      <td>Single carriageway</td>\n",
       "      <td>Urban</td>\n",
       "      <td>Raining no high winds</td>\n",
       "      <td>Car</td>\n",
       "      <td>2019</td>\n",
       "      <td>7</td>\n",
       "      <td>2</td>\n",
       "      <td>Tuesday</td>\n",
       "      <td>2</td>\n",
       "    </tr>\n",
       "    <tr>\n",
       "      <th>2</th>\n",
       "      <td>200701BS66127</td>\n",
       "      <td>Serious</td>\n",
       "      <td>2019-08-26</td>\n",
       "      <td>51.517715</td>\n",
       "      <td>Darkness - lighting unknown</td>\n",
       "      <td>Kensington and Chelsea</td>\n",
       "      <td>-0.210215</td>\n",
       "      <td>1</td>\n",
       "      <td>3</td>\n",
       "      <td>Dry</td>\n",
       "      <td>Single Carriageway</td>\n",
       "      <td>Urban</td>\n",
       "      <td>Fine</td>\n",
       "      <td>Taxi/Private hire car</td>\n",
       "      <td>2019</td>\n",
       "      <td>8</td>\n",
       "      <td>26</td>\n",
       "      <td>Monday</td>\n",
       "      <td>2</td>\n",
       "    </tr>\n",
       "    <tr>\n",
       "      <th>3</th>\n",
       "      <td>200701BS66128</td>\n",
       "      <td>Serious</td>\n",
       "      <td>2019-08-16</td>\n",
       "      <td>51.495478</td>\n",
       "      <td>Daylight</td>\n",
       "      <td>Kensington and Chelsea</td>\n",
       "      <td>-0.202731</td>\n",
       "      <td>1</td>\n",
       "      <td>4</td>\n",
       "      <td>Dry</td>\n",
       "      <td>Single carriageway</td>\n",
       "      <td>Urban</td>\n",
       "      <td>Fine no high winds</td>\n",
       "      <td>Bus or coach (17 or more pass seats)</td>\n",
       "      <td>2019</td>\n",
       "      <td>8</td>\n",
       "      <td>16</td>\n",
       "      <td>Friday</td>\n",
       "      <td>2</td>\n",
       "    </tr>\n",
       "    <tr>\n",
       "      <th>4</th>\n",
       "      <td>200701BS66837</td>\n",
       "      <td>Slight</td>\n",
       "      <td>2019-09-03</td>\n",
       "      <td>51.488576</td>\n",
       "      <td>Darkness - lights lit</td>\n",
       "      <td>Kensington and Chelsea</td>\n",
       "      <td>-0.192487</td>\n",
       "      <td>1</td>\n",
       "      <td>2</td>\n",
       "      <td>Dry</td>\n",
       "      <td>Single Carriageway</td>\n",
       "      <td>Urban</td>\n",
       "      <td>Fine</td>\n",
       "      <td>Other vehicle</td>\n",
       "      <td>2019</td>\n",
       "      <td>9</td>\n",
       "      <td>3</td>\n",
       "      <td>Tuesday</td>\n",
       "      <td>1</td>\n",
       "    </tr>\n",
       "    <tr>\n",
       "      <th>...</th>\n",
       "      <td>...</td>\n",
       "      <td>...</td>\n",
       "      <td>...</td>\n",
       "      <td>...</td>\n",
       "      <td>...</td>\n",
       "      <td>...</td>\n",
       "      <td>...</td>\n",
       "      <td>...</td>\n",
       "      <td>...</td>\n",
       "      <td>...</td>\n",
       "      <td>...</td>\n",
       "      <td>...</td>\n",
       "      <td>...</td>\n",
       "      <td>...</td>\n",
       "      <td>...</td>\n",
       "      <td>...</td>\n",
       "      <td>...</td>\n",
       "      <td>...</td>\n",
       "      <td>...</td>\n",
       "    </tr>\n",
       "    <tr>\n",
       "      <th>660674</th>\n",
       "      <td>201091NM01760</td>\n",
       "      <td>Slight</td>\n",
       "      <td>2022-02-18</td>\n",
       "      <td>57.374005</td>\n",
       "      <td>Daylight</td>\n",
       "      <td>Highland</td>\n",
       "      <td>-3.467828</td>\n",
       "      <td>2</td>\n",
       "      <td>1</td>\n",
       "      <td>Dry</td>\n",
       "      <td>Single carriageway</td>\n",
       "      <td>Rural</td>\n",
       "      <td>Fine no high winds</td>\n",
       "      <td>Car</td>\n",
       "      <td>2022</td>\n",
       "      <td>2</td>\n",
       "      <td>18</td>\n",
       "      <td>Friday</td>\n",
       "      <td>1</td>\n",
       "    </tr>\n",
       "    <tr>\n",
       "      <th>660675</th>\n",
       "      <td>201091NM01881</td>\n",
       "      <td>Slight</td>\n",
       "      <td>2022-02-21</td>\n",
       "      <td>57.232273</td>\n",
       "      <td>Darkness - no lighting</td>\n",
       "      <td>Highland</td>\n",
       "      <td>-3.809281</td>\n",
       "      <td>1</td>\n",
       "      <td>1</td>\n",
       "      <td>Frost or ice</td>\n",
       "      <td>Single carriageway</td>\n",
       "      <td>Rural</td>\n",
       "      <td>Fine no high winds</td>\n",
       "      <td>Car</td>\n",
       "      <td>2022</td>\n",
       "      <td>2</td>\n",
       "      <td>21</td>\n",
       "      <td>Monday</td>\n",
       "      <td>1</td>\n",
       "    </tr>\n",
       "    <tr>\n",
       "      <th>660676</th>\n",
       "      <td>201091NM01935</td>\n",
       "      <td>Slight</td>\n",
       "      <td>2022-02-23</td>\n",
       "      <td>57.585044</td>\n",
       "      <td>Daylight</td>\n",
       "      <td>Highland</td>\n",
       "      <td>-3.862727</td>\n",
       "      <td>1</td>\n",
       "      <td>3</td>\n",
       "      <td>Frost or ice</td>\n",
       "      <td>Single carriageway</td>\n",
       "      <td>Rural</td>\n",
       "      <td>Fine no high winds</td>\n",
       "      <td>Car</td>\n",
       "      <td>2022</td>\n",
       "      <td>2</td>\n",
       "      <td>23</td>\n",
       "      <td>Wednesday</td>\n",
       "      <td>1</td>\n",
       "    </tr>\n",
       "    <tr>\n",
       "      <th>660677</th>\n",
       "      <td>201091NM01964</td>\n",
       "      <td>Serious</td>\n",
       "      <td>2022-02-23</td>\n",
       "      <td>57.214898</td>\n",
       "      <td>Darkness - no lighting</td>\n",
       "      <td>Highland</td>\n",
       "      <td>-3.823997</td>\n",
       "      <td>1</td>\n",
       "      <td>2</td>\n",
       "      <td>Wet or damp</td>\n",
       "      <td>Single carriageway</td>\n",
       "      <td>Rural</td>\n",
       "      <td>Fine no high winds</td>\n",
       "      <td>Motorcycle over 500cc</td>\n",
       "      <td>2022</td>\n",
       "      <td>2</td>\n",
       "      <td>23</td>\n",
       "      <td>Wednesday</td>\n",
       "      <td>2</td>\n",
       "    </tr>\n",
       "    <tr>\n",
       "      <th>660678</th>\n",
       "      <td>201091NM02142</td>\n",
       "      <td>Serious</td>\n",
       "      <td>2022-02-28</td>\n",
       "      <td>57.575210</td>\n",
       "      <td>Daylight</td>\n",
       "      <td>Highland</td>\n",
       "      <td>-3.895673</td>\n",
       "      <td>1</td>\n",
       "      <td>1</td>\n",
       "      <td>Wet or damp</td>\n",
       "      <td>Dual carriageway</td>\n",
       "      <td>Rural</td>\n",
       "      <td>Snowing no high winds</td>\n",
       "      <td>Car</td>\n",
       "      <td>2022</td>\n",
       "      <td>2</td>\n",
       "      <td>28</td>\n",
       "      <td>Monday</td>\n",
       "      <td>2</td>\n",
       "    </tr>\n",
       "  </tbody>\n",
       "</table>\n",
       "<p>660679 rows × 19 columns</p>\n",
       "</div>"
      ],
      "text/plain": [
       "                Index Accident_Severity Accident Date   Latitude  \\\n",
       "0       200701BS64157           Serious    2019-06-05  51.506187   \n",
       "1       200701BS65737           Serious    2019-07-02  51.495029   \n",
       "2       200701BS66127           Serious    2019-08-26  51.517715   \n",
       "3       200701BS66128           Serious    2019-08-16  51.495478   \n",
       "4       200701BS66837            Slight    2019-09-03  51.488576   \n",
       "...               ...               ...           ...        ...   \n",
       "660674  201091NM01760            Slight    2022-02-18  57.374005   \n",
       "660675  201091NM01881            Slight    2022-02-21  57.232273   \n",
       "660676  201091NM01935            Slight    2022-02-23  57.585044   \n",
       "660677  201091NM01964           Serious    2022-02-23  57.214898   \n",
       "660678  201091NM02142           Serious    2022-02-28  57.575210   \n",
       "\n",
       "                   Light_Conditions           District Area  Longitude  \\\n",
       "0             Darkness - lights lit  Kensington and Chelsea  -0.209082   \n",
       "1                          Daylight  Kensington and Chelsea  -0.173647   \n",
       "2       Darkness - lighting unknown  Kensington and Chelsea  -0.210215   \n",
       "3                          Daylight  Kensington and Chelsea  -0.202731   \n",
       "4             Darkness - lights lit  Kensington and Chelsea  -0.192487   \n",
       "...                             ...                     ...        ...   \n",
       "660674                     Daylight                Highland  -3.467828   \n",
       "660675       Darkness - no lighting                Highland  -3.809281   \n",
       "660676                     Daylight                Highland  -3.862727   \n",
       "660677       Darkness - no lighting                Highland  -3.823997   \n",
       "660678                     Daylight                Highland  -3.895673   \n",
       "\n",
       "        Number_of_Casualties  Number_of_Vehicles Road_Surface_Conditions  \\\n",
       "0                          1                   2                     Dry   \n",
       "1                          1                   2             Wet or damp   \n",
       "2                          1                   3                     Dry   \n",
       "3                          1                   4                     Dry   \n",
       "4                          1                   2                     Dry   \n",
       "...                      ...                 ...                     ...   \n",
       "660674                     2                   1                     Dry   \n",
       "660675                     1                   1            Frost or ice   \n",
       "660676                     1                   3            Frost or ice   \n",
       "660677                     1                   2             Wet or damp   \n",
       "660678                     1                   1             Wet or damp   \n",
       "\n",
       "                 Road_Type Urban_or_Rural_Area     Weather_Conditions  \\\n",
       "0       Single carriageway               Urban     Fine no high winds   \n",
       "1       Single carriageway               Urban  Raining no high winds   \n",
       "2       Single Carriageway               Urban                   Fine   \n",
       "3       Single carriageway               Urban     Fine no high winds   \n",
       "4       Single Carriageway               Urban                   Fine   \n",
       "...                    ...                 ...                    ...   \n",
       "660674  Single carriageway               Rural     Fine no high winds   \n",
       "660675  Single carriageway               Rural     Fine no high winds   \n",
       "660676  Single carriageway               Rural     Fine no high winds   \n",
       "660677  Single carriageway               Rural     Fine no high winds   \n",
       "660678    Dual carriageway               Rural  Snowing no high winds   \n",
       "\n",
       "                                Vehicle_Type  Year  Month  Day Days of Week  \\\n",
       "0                                        Car  2019      6    5    Wednesday   \n",
       "1                                        Car  2019      7    2      Tuesday   \n",
       "2                      Taxi/Private hire car  2019      8   26       Monday   \n",
       "3       Bus or coach (17 or more pass seats)  2019      8   16       Friday   \n",
       "4                              Other vehicle  2019      9    3      Tuesday   \n",
       "...                                      ...   ...    ...  ...          ...   \n",
       "660674                                   Car  2022      2   18       Friday   \n",
       "660675                                   Car  2022      2   21       Monday   \n",
       "660676                                   Car  2022      2   23    Wednesday   \n",
       "660677                 Motorcycle over 500cc  2022      2   23    Wednesday   \n",
       "660678                                   Car  2022      2   28       Monday   \n",
       "\n",
       "       Accident_Severity_Num  \n",
       "0                          2  \n",
       "1                          2  \n",
       "2                          2  \n",
       "3                          2  \n",
       "4                          1  \n",
       "...                      ...  \n",
       "660674                     1  \n",
       "660675                     1  \n",
       "660676                     1  \n",
       "660677                     2  \n",
       "660678                     2  \n",
       "\n",
       "[660679 rows x 19 columns]"
      ]
     },
     "execution_count": 59,
     "metadata": {},
     "output_type": "execute_result"
    }
   ],
   "source": [
    "car"
   ]
  },
  {
   "cell_type": "markdown",
   "id": "8117e383-6f0f-49f6-b2b5-8faf86f0a3eb",
   "metadata": {},
   "source": [
    "<h3>20. On what Road Condition has the accident both Rural and Urban?  </h3>"
   ]
  },
  {
   "cell_type": "code",
   "execution_count": 60,
   "id": "2f4c09ad-e98f-4133-9cef-f97f26d92fb2",
   "metadata": {},
   "outputs": [],
   "source": [
    "road_area_counts = (\n",
    "    car.groupby(['Road_Surface_Conditions', 'Urban_or_Rural_Area'])\n",
    "       .size()\n",
    "       .unstack(fill_value=0)\n",
    ")\n"
   ]
  },
  {
   "cell_type": "code",
   "execution_count": 61,
   "id": "4d9f1741-cef1-4482-986c-8d82e837579b",
   "metadata": {},
   "outputs": [
    {
     "data": {
      "text/html": [
       "<div>\n",
       "<style scoped>\n",
       "    .dataframe tbody tr th:only-of-type {\n",
       "        vertical-align: middle;\n",
       "    }\n",
       "\n",
       "    .dataframe tbody tr th {\n",
       "        vertical-align: top;\n",
       "    }\n",
       "\n",
       "    .dataframe thead th {\n",
       "        text-align: right;\n",
       "    }\n",
       "</style>\n",
       "<table border=\"1\" class=\"dataframe\">\n",
       "  <thead>\n",
       "    <tr style=\"text-align: right;\">\n",
       "      <th>Urban_or_Rural_Area</th>\n",
       "      <th>Rural</th>\n",
       "      <th>Unallocated</th>\n",
       "      <th>Urban</th>\n",
       "    </tr>\n",
       "    <tr>\n",
       "      <th>Road_Surface_Conditions</th>\n",
       "      <th></th>\n",
       "      <th></th>\n",
       "      <th></th>\n",
       "    </tr>\n",
       "  </thead>\n",
       "  <tbody>\n",
       "    <tr>\n",
       "      <th>Dry</th>\n",
       "      <td>145145</td>\n",
       "      <td>5</td>\n",
       "      <td>303397</td>\n",
       "    </tr>\n",
       "    <tr>\n",
       "      <th>Flood over 3cm. deep</th>\n",
       "      <td>785</td>\n",
       "      <td>1</td>\n",
       "      <td>231</td>\n",
       "    </tr>\n",
       "    <tr>\n",
       "      <th>Frost or ice</th>\n",
       "      <td>10953</td>\n",
       "      <td>0</td>\n",
       "      <td>7564</td>\n",
       "    </tr>\n",
       "    <tr>\n",
       "      <th>Snow</th>\n",
       "      <td>3102</td>\n",
       "      <td>0</td>\n",
       "      <td>2788</td>\n",
       "    </tr>\n",
       "    <tr>\n",
       "      <th>Wet or damp</th>\n",
       "      <td>79005</td>\n",
       "      <td>5</td>\n",
       "      <td>107698</td>\n",
       "    </tr>\n",
       "  </tbody>\n",
       "</table>\n",
       "</div>"
      ],
      "text/plain": [
       "Urban_or_Rural_Area       Rural  Unallocated   Urban\n",
       "Road_Surface_Conditions                             \n",
       "Dry                      145145            5  303397\n",
       "Flood over 3cm. deep        785            1     231\n",
       "Frost or ice              10953            0    7564\n",
       "Snow                       3102            0    2788\n",
       "Wet or damp               79005            5  107698"
      ]
     },
     "execution_count": 61,
     "metadata": {},
     "output_type": "execute_result"
    }
   ],
   "source": [
    "road_area_counts"
   ]
  },
  {
   "cell_type": "code",
   "execution_count": 62,
   "id": "6e81ee88-76d8-4ea6-9d66-00f696befdbb",
   "metadata": {},
   "outputs": [
    {
     "data": {
      "image/png": "[encoded data removed]",
      "text/plain": [
       "<Figure size 1200x600 with 1 Axes>"
      ]
     },
     "metadata": {},
     "output_type": "display_data"
    }
   ],
   "source": [
    "\n",
    "road_area_counts = (\n",
    "    car.groupby(['Road_Surface_Conditions', 'Urban_or_Rural_Area'])\n",
    "       .size()\n",
    "       .unstack(fill_value=0)\n",
    ")\n",
    "road_area_counts.plot(kind='bar', figsize=(12,6))\n",
    "\n",
    "plt.title('Accidents per Road Surface Condition in Urban vs Rural Areas')\n",
    "plt.xlabel('Road Surface Condition')\n",
    "plt.ylabel('Number of Accidents')\n",
    "plt.xticks(rotation=45, ha='right')\n",
    "plt.tight_layout()\n",
    "plt.show()"
   ]
  },
  {
   "cell_type": "markdown",
   "id": "4400afcf-acd7-490d-82b6-b296c81c863b",
   "metadata": {},
   "source": [
    "<h2>Insight No. 25</h2>\n",
    "<h3>The result shows that the Road Surface with the highest amount of accident in Rural is dry. On the other hand, In urban it still dry. And floow over 3CM deep are both with the lowest accident both Rural and Urban </h3>\n",
    "<hr></hr>"
   ]
  },
  {
   "cell_type": "code",
   "execution_count": null,
   "id": "a1c27f64-ab21-4e56-8aea-c9245c507e2d",
   "metadata": {},
   "outputs": [],
   "source": []
  }
 ],
 "metadata": {
  "kernelspec": {
   "display_name": "Python 3 (ipykernel)",
   "language": "python",
   "name": "python3"
  },
  "language_info": {
   "codemirror_mode": {
    "name": "ipython",
    "version": 3
   },
   "file_extension": ".py",
   "mimetype": "text/x-python",
   "name": "python",
   "nbconvert_exporter": "python",
   "pygments_lexer": "ipython3",
   "version": "3.11.9"
  }
 },
 "nbformat": 4,
 "nbformat_minor": 5
}
